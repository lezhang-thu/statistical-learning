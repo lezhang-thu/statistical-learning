{
 "cells": [
  {
   "cell_type": "markdown",
   "id": "c37cf308",
   "metadata": {
    "slideshow": {
     "slide_type": "slide"
    }
   },
   "source": [
    "# 课程成绩构成\n",
    "\n",
    "1. 60% 期末考试\n",
    "1. 20% 4次实验\n",
    "1. 20% （大）作业及课堂表现"
   ]
  },
  {
   "cell_type": "markdown",
   "id": "c7c34adb",
   "metadata": {
    "slideshow": {
     "slide_type": "slide"
    }
   },
   "source": [
    "# 统计学习\n",
    "\n",
    "* 统计学习以数据为研究对象，是数据驱动的学科\n",
    "* 统计学习的目的是对数据进行预测与分析\n"
   ]
  },
  {
   "cell_type": "markdown",
   "id": "de02880e",
   "metadata": {
    "slideshow": {
     "slide_type": "slide"
    }
   },
   "source": [
    "* 统计学习方法构建模型并应用模型进行预测与分析\n",
    "* 统计学习是概率论、统计学、信息论、计算理论、最优化理论及计算机科学等多个领域的交叉学科，并且在发展中逐步形成独自的理论体系与方法论"
   ]
  },
  {
   "cell_type": "markdown",
   "id": "3e4dea57",
   "metadata": {
    "slideshow": {
     "slide_type": "slide"
    }
   },
   "source": [
    "“如果一个系统能够通过执行某个过程改进它的性能，这就是学习。”"
   ]
  },
  {
   "cell_type": "markdown",
   "id": "83a9f223",
   "metadata": {
    "slideshow": {
     "slide_type": "slide"
    }
   },
   "source": [
    "## 统计学习的对象是数据 / data\n",
    "\n",
    "* 这里的同类数据是指具有某种共同性质的数据，例如英文文章、互联网网页、数据库中的数据等\n",
    "* 由于它们具有统计规律性，所以可以用概率统计方法来加以处理。比如，可以用随机变量描述数据中的特征，用概率分布描述数据的统计规律"
   ]
  },
  {
   "cell_type": "markdown",
   "id": "fe0a5c27",
   "metadata": {
    "slideshow": {
     "slide_type": "slide"
    }
   },
   "source": [
    "## 监督学习 / supervised learning\n",
    "\n",
    "* 从给定的、有限的、用于学习的训练数据（training data）集合出发，假设数据是**独立同分布**产生的\n",
    "* 并且假设要学习的模型属于某个函数的集合，称为假设空间（hypothesis space）\n",
    "\n"
   ]
  },
  {
   "cell_type": "markdown",
   "id": "44325a43",
   "metadata": {
    "slideshow": {
     "slide_type": "slide"
    }
   },
   "source": [
    "* 应用某个评价准则（evaluation criterion），从假设空间中选取一个最优的模型，使它对已知训练数据及未知测试数据（test data）在给定的评价准则下有最优的预测"
   ]
  },
  {
   "cell_type": "markdown",
   "id": "b6d597e6",
   "metadata": {
    "slideshow": {
     "slide_type": "slide"
    }
   },
   "source": [
    "## 统计学习的重要性\n",
    "\n",
    "* 我们处于一个信息爆炸的时代，海量数据的处理与利用是人们必然的需求\n",
    "* 现实中的数据不但规模大，而且常常具有不确定性，统计学习往往是处理这类数据最强有力的工具"
   ]
  },
  {
   "cell_type": "markdown",
   "id": "8fcbdd33",
   "metadata": {
    "slideshow": {
     "slide_type": "slide"
    }
   },
   "source": [
    "* 统计学习是计算机智能化的有效手段\n",
    "* 智能化是计算机发展的必然趋势，也是计算机技术研究与开发的主要目标"
   ]
  },
  {
   "cell_type": "markdown",
   "id": "460a8caf",
   "metadata": {
    "slideshow": {
     "slide_type": "slide"
    }
   },
   "source": [
    "## 基本概念\n",
    "\n",
    "### 输入空间、特征空间与输出空间\n",
    "\n",
    "* 输入与输出空间可以是有限元素的集合，也可以是整个**欧氏空间**\n",
    "\n",
    "* 输入空间与输出空间可以是同一个空间，也可以是不同的空间；但通常输出空间远远小于输入空间"
   ]
  },
  {
   "cell_type": "markdown",
   "id": "935f7e73",
   "metadata": {
    "slideshow": {
     "slide_type": "slide"
    }
   },
   "source": [
    "* $\\mathbf{R}$ - 实数集\n",
    "* $\\mathbf{R}^n$ - $n$维实数向量空间，$n$维欧氏空间"
   ]
  },
  {
   "cell_type": "markdown",
   "id": "8090f6ca",
   "metadata": {
    "slideshow": {
     "slide_type": "slide"
    }
   },
   "source": [
    "* 特征空间的每一维对应于一个特征\n",
    "* 有时假设输入空间与特征空间为相同的空间，对它们不予区分\n",
    "* 有时假设输入空间与特征空间为不同的空间，将实例从输入空间映射到特征空间\n"
   ]
  },
  {
   "cell_type": "markdown",
   "id": "56714b29",
   "metadata": {
    "slideshow": {
     "slide_type": "slide"
    }
   },
   "source": [
    "* 模型实际上都是定义在特征空间上的"
   ]
  },
  {
   "cell_type": "markdown",
   "id": "4de9d848",
   "metadata": {
    "slideshow": {
     "slide_type": "slide"
    }
   },
   "source": [
    "* 在监督学习过程中，将输入与输出看作是定义在输入（特征）空间与输出空间上的随机变量的取值\n",
    "* 输入实例$x$的特征向量记作\n",
    "    $$x=(x^{(1)},x^{(2)},\\dotsc,x^{(i)},\\dotsc,x^{(n)})^T$$\n",
    "* 训练集通常表示为\n",
    "    $$T=\\{(x_1,y_1),(x_2,y_2),\\dotsc,(x_N,y_N)\\}$$"
   ]
  },
  {
   "cell_type": "markdown",
   "id": "b4b182e0",
   "metadata": {
    "slideshow": {
     "slide_type": "slide"
    }
   },
   "source": [
    "* 输入变量与输出变量均为连续变量的预测问题称为回归问题\n",
    "* 输出变量为有限个离散变量的预测问题称为分类问题\n",
    "* 输入变量与输出变量均为变量序列的预测问题称为标注问题"
   ]
  },
  {
   "cell_type": "markdown",
   "id": "0462f7d8",
   "metadata": {
    "slideshow": {
     "slide_type": "slide"
    }
   },
   "source": [
    "### 联合概率分布\n",
    "\n",
    "* 输入与输出的随机变量$X$和$Y$\n",
    "* 在学习过程中，假定这一联合概率分布存在，但对学习系统来说，联合概率分布的具体定义是未知的\n",
    "* 训练数据与测试数据被看作是依联合概率分布$P(X,Y)$独立同分布产生的"
   ]
  },
  {
   "cell_type": "markdown",
   "id": "684306b9",
   "metadata": {
    "slideshow": {
     "slide_type": "slide"
    }
   },
   "source": [
    "* 统计学习假设数据存在一定的统计规律，$X$和$Y$具有联合概率分布的假设就是监督学习关于数据的基本假设"
   ]
  },
  {
   "cell_type": "markdown",
   "id": "6fe06e1a",
   "metadata": {
    "slideshow": {
     "slide_type": "slide"
    }
   },
   "source": [
    "### 假设空间 / hypothesis space\n",
    "\n",
    "* 监督学习的目的在于学习一个由输入到输出的映射，这一映射由模型来表示\n",
    "* 监督学习的模型可以是概率模型或非概率模型，由条件概率分布$P(Y|X)$或决策函数（decision function）$Y=f(X)$表示，随具体学习方法而定\n",
    "* 对具体的输 入进行相应的输出预测时，写作$P(y|x)$或$y=f(x)$"
   ]
  },
  {
   "cell_type": "markdown",
   "id": "2ee1f0ef",
   "metadata": {
    "slideshow": {
     "slide_type": "slide"
    }
   },
   "source": [
    "### 问题的形式化\n",
    "\n",
    "* 监督学习中，假设训练数据与测试数据是依联合概率分布$P(X,Y)$独立同分布产生的\n",
    "* 条件概率分布$\\hat{P}(Y|X)$或决策函数$Y=\\hat{f}(X)$描述输入与输出随机变量之间的映射关系"
   ]
  },
  {
   "cell_type": "markdown",
   "id": "c2bb124c",
   "metadata": {
    "slideshow": {
     "slide_type": "slide"
    }
   },
   "source": [
    "* 在预测过程中，\n",
    "预测系统对于给定的测试样本集中的输入$x_{N+1}$，由模型\n",
    "$y_{N+1}=\\mathop{\\arg\\,\\max}_{y_{N+1}}\\hat{P}(y_{N+1}|x_{N+1})$\n",
    "或$y_{N+1}=\\hat{f}(x_{N+1})$给出相应的输出$y_{N+1}$"
   ]
  },
  {
   "cell_type": "markdown",
   "id": "230751e3",
   "metadata": {
    "slideshow": {
     "slide_type": "slide"
    }
   },
   "source": [
    "## 统计学习三要素\n",
    "\n",
    "### 模型\n",
    "\n",
    "* 模型的假设空间（hypothesis space）包含所有可能的条件概率分布或决策函数\n",
    "* 例如，假设决策函数是输入变量的线性函数，那么模型的假设空间就是所有这些线性函数构成的函数集合"
   ]
  },
  {
   "cell_type": "markdown",
   "id": "4073390b",
   "metadata": {
    "slideshow": {
     "slide_type": "slide"
    }
   },
   "source": [
    "* 一个参数向量决定的函数族\n",
    "    $$\\mathcal{F}=\\{f\\mid Y=f_\\theta(X),\\theta\\in\\mathbf{R}^n\\}$$\n",
    "* 由一个参数向量决定的条件概率分布族\n",
    "    $$\\mathcal{F}=\\{P\\mid P_\\theta(Y|X),\\theta\\in\\mathbf{R}^n\\}$$"
   ]
  },
  {
   "cell_type": "markdown",
   "id": "702279f9",
   "metadata": {
    "slideshow": {
     "slide_type": "slide"
    }
   },
   "source": [
    "### 策略\n",
    "\n",
    "#### 损失函数和期望损失\n",
    "\n",
    "* 对数似然损失函数 / log-likelihood loss function\n",
    "    $$L(Y,P(Y|X))=-\\log P(Y|X)$$\n",
    "* 期望损失 / expected loss\n",
    "    $$R_\\mathrm{exp}(f)=\\mathbb{E}_P[L(Y,f(X)]=\\int_{\\mathcal{X},\\mathcal{Y}}L(y,f(x))P(x,y)\\mathop{}\\!\\mathrm{d} x\\mathop{}\\!\\mathrm{d} y$$"
   ]
  },
  {
   "cell_type": "markdown",
   "id": "99e5f0ff",
   "metadata": {
    "slideshow": {
     "slide_type": "slide"
    }
   },
   "source": [
    "* 经验损失 / empirical loss\n",
    "    $$R_\\mathrm{emp}(f)=\\frac{1}{N}\\sum_{i=1}^NL(y_i,f(x_i))$$\n",
    "* 期望损失$R_\\mathrm{exp}(f)$是模型关于联合分布的期望损失，经验损失$R_\\mathrm{emp}(f)$是模型关于训练样本集的平均损失\n",
    "* 根据大数定律，当样本容量$N$趋于无穷时，经验损失$R_\\mathrm{emp}(f)$趋于期望损失$R_\\mathrm{exp}(f)$"
   ]
  },
  {
   "cell_type": "markdown",
   "id": "662db859",
   "metadata": {
    "slideshow": {
     "slide_type": "slide"
    }
   },
   "source": [
    "#### 经验风险最小化与结构风险最小化\n",
    "\n",
    "* 经验风险最小化（empirical risk minimization, ERM）的策略认为，经验风险最小的模型是最优的模型\n",
    "* 比如，极大似然估计（maximum likelihood estimation）就是经验风险最小化的一个例子。当模型是条件概率分布，损失函数是对数损失函数时，经验风险最小化就等价于极大似然估计"
   ]
  },
  {
   "cell_type": "markdown",
   "id": "cf912508",
   "metadata": {
    "slideshow": {
     "slide_type": "slide"
    }
   },
   "source": [
    "* 但是，当样本容量很小时，经验风险最小化学习的效果就未必很好，会产生后面将要叙述的“过拟合（over-fitting）”现象\n"
   ]
  },
  {
   "cell_type": "markdown",
   "id": "966925c6",
   "metadata": {
    "slideshow": {
     "slide_type": "slide"
    }
   },
   "source": [
    "* 结构风险最小化（structural risk minimization, SRM）是为了防止过拟合而提出来的策略\n",
    "* 结构风险在经验风险上加上表示模型复杂度的正则化项（regularizer）或罚项（penalty term）\n",
    "    $$R_\\mathrm{srm}(f)=\\frac{1}{N}\\sum_{i=1}^NL(y_i,f(x_i))+\\lambda J(f)$$"
   ]
  },
  {
   "cell_type": "markdown",
   "id": "7f94cb40",
   "metadata": {
    "slideshow": {
     "slide_type": "slide"
    }
   },
   "source": [
    "## 模型评估与模型选择\n",
    "\n",
    "### 训练误差与测试误差\n",
    "\n",
    "* 误差率 / error rate\n",
    "$$\n",
    "e_\\mathrm{test}=\\frac{1}{N'}\\sum_{i=1}^{N'}I(y_i\\neq \\hat{f}(x_i))\n",
    "$$\n",
    "* 准确率 / accuracy：$I(y_i= \\hat{f}(x_i))$"
   ]
  },
  {
   "cell_type": "markdown",
   "id": "c67b1874",
   "metadata": {
    "slideshow": {
     "slide_type": "slide"
    }
   },
   "source": [
    "* 训练误差的大小，对判断给定的问题是不是一个容易学习的问题是有意义的，但本质上不重要\n",
    "* 测试误差反映了学习方法对未知的测试数据集的预测能力，是学习中的重要概念\n"
   ]
  },
  {
   "cell_type": "markdown",
   "id": "aa2cd337",
   "metadata": {
    "slideshow": {
     "slide_type": "slide"
    }
   },
   "source": [
    "* 显然，给定两种学习方法，测试误差小的方法具有更好的预测能力，是更有效的方法\n",
    "* 通常将学习方法对未知数据的预测能力称为泛化能力（generalization ability）"
   ]
  },
  {
   "cell_type": "markdown",
   "id": "eee79b28",
   "metadata": {
    "slideshow": {
     "slide_type": "slide"
    }
   },
   "source": [
    "### 过拟合与模型选择\n",
    "\n",
    "* 如果一味追求提高对训练数据的预测能力，所选模型的复杂度则往往会比真模型更高\n",
    "* 这种现象称为过拟合（over-fitting）\n"
   ]
  },
  {
   "cell_type": "markdown",
   "id": "38878487",
   "metadata": {
    "slideshow": {
     "slide_type": "slide"
    }
   },
   "source": [
    "* 过拟合是指学习时选择的模型所包含的参数过多，以致于出现这一模型对已知数据预测得很好，但对未知数据预测得很差的现象"
   ]
  },
  {
   "cell_type": "markdown",
   "id": "675ccfe2",
   "metadata": {
    "slideshow": {
     "slide_type": "slide"
    }
   },
   "source": [
    "多项式函数拟合问题\n",
    "\n",
    "$$\n",
    "f_M(x,w)=w_0+w_1x+w_2x^2+\\dotsb+w_Mx^M=\\sum_{j=0}^Mw_jx^j\n",
    "$$\n",
    "\n",
    "$$\n",
    "L(w)=\\frac{1}{2}\\sum_{i=1}^N\\biggl(\\sum_{j=0}^Mw_jx_i^j-y_i\\biggr)^2\n",
    "$$"
   ]
  },
  {
   "cell_type": "markdown",
   "id": "8788bace",
   "metadata": {
    "slideshow": {
     "slide_type": "subslide"
    }
   },
   "source": [
    "* 定义矩阵$X$为：\n",
    "$$\n",
    "X=\n",
    "\\begin{bmatrix}\n",
    "1 & x_1 & x_1^2 & \\dots & x_1^M\\\\\n",
    "1 & x_2 & x_2^2 & \\dots & x_2^M\\\\\n",
    "\\vdots & \\vdots & \\vdots & \\ddots & \\vdots\\\\\n",
    "1 & x_N & x_N^2 & \\dots & x_N^M\n",
    "\\end{bmatrix}\n",
    "$$\n",
    "* 我们有$L(w)$为：\n",
    "$$L(w)=\\frac{1}{2}\\|Xw-y\\|^2$$\n"
   ]
  },
  {
   "cell_type": "markdown",
   "id": "9943999b",
   "metadata": {
    "slideshow": {
     "slide_type": "subslide"
    }
   },
   "source": [
    "* $L_p$-norm\n",
    "\n",
    "$$\\|x\\|_p=(|x_1|^p+\\dotsb+|x_n|^p)^{1/p}$$\n",
    "\n",
    "* 性质：\n",
    "    * 曼哈顿距离大于等于欧几里得距离，即$\\|x\\|_2\\le \\|x\\|_1$\n",
    "    * $\\|x\\|_{p+a}\\le\\|x\\|_p$，对于实数$p>0$及实数$a\\ge 0$"
   ]
  },
  {
   "cell_type": "markdown",
   "id": "04b0d2eb",
   "metadata": {
    "slideshow": {
     "slide_type": "subslide"
    }
   },
   "source": [
    "* 对$w$求偏导数并令其为0，可得：\n",
    "$$(Xw-y)^TX=0$$\n",
    "\n",
    "或者其等价形式：$$X^T(Xw-y)=0$$\n",
    "\n",
    "因此有：$$w=((X^TX)^{-1})X^T)y$$\n",
    "\n",
    "要求$N\\ge M$（回到矩阵$X$进行解释说明），否则$X^TX$无法求逆"
   ]
  },
  {
   "cell_type": "markdown",
   "id": "6f91964d",
   "metadata": {
    "slideshow": {
     "slide_type": "slide"
    }
   },
   "source": [
    "**代码实例**\n",
    "\n",
    "* 目标函数$y=\\sin2{\\pi}x$\n",
    "* 加上一个正态分布的噪音干扰"
   ]
  },
  {
   "cell_type": "code",
   "execution_count": 5,
   "id": "cae68221",
   "metadata": {
    "slideshow": {
     "slide_type": "subslide"
    }
   },
   "outputs": [],
   "source": [
    "import matplotlib.pyplot as plt\n",
    "import numpy as np\n",
    "import scipy as sp\n",
    "from scipy.optimize import leastsq\n",
    "\n",
    "%matplotlib inline"
   ]
  },
  {
   "cell_type": "markdown",
   "id": "76851f49",
   "metadata": {
    "slideshow": {
     "slide_type": "slide"
    }
   },
   "source": [
    "`np.poly1d([1,2,3])`  生成  $1x^2+2x^1+3x^0$"
   ]
  },
  {
   "cell_type": "code",
   "execution_count": 6,
   "id": "742a6f3b",
   "metadata": {
    "slideshow": {
     "slide_type": "subslide"
    }
   },
   "outputs": [],
   "source": [
    "# 目标函数\n",
    "def real_func(x):\n",
    "    return np.sin(2 * np.pi * x)\n",
    "\n",
    "\n",
    "# 多项式\n",
    "def fit_func(p, x):\n",
    "    f = np.poly1d(p)\n",
    "    return f(x)\n",
    "\n",
    "\n",
    "# 残差\n",
    "def residuals_func(p, x, y):\n",
    "    ret = fit_func(p, x) - y\n",
    "    return ret"
   ]
  },
  {
   "cell_type": "code",
   "execution_count": 7,
   "id": "8e6bac03",
   "metadata": {
    "slideshow": {
     "slide_type": "slide"
    }
   },
   "outputs": [],
   "source": [
    "# 十个点\n",
    "x = np.linspace(0, 1, 10)\n",
    "x_points = np.linspace(0, 1, 1000)\n",
    "# 加上正态分布噪音的目标函数的值\n",
    "y_ = real_func(x)\n",
    "y = [np.random.normal(0, 0.1) + y1 for y1 in y_]"
   ]
  },
  {
   "cell_type": "code",
   "execution_count": 8,
   "id": "46e96e62",
   "metadata": {
    "slideshow": {
     "slide_type": "subslide"
    }
   },
   "outputs": [],
   "source": [
    "def fitting(M=0):\n",
    "    # 随机初始化多项式参数\n",
    "    p_init = np.random.rand(M + 1)\n",
    "    # 最小二乘法\n",
    "    p_lsq = leastsq(residuals_func, p_init, args=(x, y))\n",
    "    print(\"Fitting Parameters:\", p_lsq[0])\n",
    "\n",
    "    # 可视化\n",
    "    plt.plot(x_points, real_func(x_points), label=\"real\")\n",
    "    plt.plot(x_points, fit_func(p_lsq[0], x_points), label=\"fitted curve\")\n",
    "    plt.plot(x, y, \"bo\", label=\"noise\")\n",
    "    plt.legend()\n",
    "    return p_lsq"
   ]
  },
  {
   "cell_type": "markdown",
   "id": "c79ed167",
   "metadata": {
    "slideshow": {
     "slide_type": "slide"
    }
   },
   "source": [
    "如果$M=0$，多项式曲线是一个常数，数据拟合效果很差"
   ]
  },
  {
   "cell_type": "code",
   "execution_count": 9,
   "id": "2468f681",
   "metadata": {
    "slideshow": {
     "slide_type": "subslide"
    }
   },
   "outputs": [
    {
     "name": "stdout",
     "output_type": "stream",
     "text": [
      "Fitting Parameters: [0.01019521]\n"
     ]
    },
    {
     "data": {
      "image/png": "[encoded data removed]",
      "text/plain": [
       "<Figure size 432x288 with 1 Axes>"
      ]
     },
     "metadata": {
      "needs_background": "light"
     },
     "output_type": "display_data"
    }
   ],
   "source": [
    "# M=0\n",
    "p_lsq_0 = fitting(M=0)"
   ]
  },
  {
   "cell_type": "markdown",
   "id": "0799c9b6",
   "metadata": {
    "slideshow": {
     "slide_type": "slide"
    }
   },
   "source": [
    "如果$M=1$，多项式曲线是一条直线，数据拟合效果也很差"
   ]
  },
  {
   "cell_type": "code",
   "execution_count": 10,
   "id": "7328e145",
   "metadata": {
    "slideshow": {
     "slide_type": "subslide"
    }
   },
   "outputs": [
    {
     "name": "stdout",
     "output_type": "stream",
     "text": [
      "Fitting Parameters: [-1.49044431  0.75541737]\n"
     ]
    },
    {
     "data": {
      "image/png": "[encoded data removed]",
      "text/plain": [
       "<Figure size 432x288 with 1 Axes>"
      ]
     },
     "metadata": {
      "needs_background": "light"
     },
     "output_type": "display_data"
    }
   ],
   "source": [
    "# M=1\n",
    "p_lsq_1 = fitting(M=1)"
   ]
  },
  {
   "cell_type": "code",
   "execution_count": 11,
   "id": "9a315534",
   "metadata": {
    "slideshow": {
     "slide_type": "subslide"
    }
   },
   "outputs": [
    {
     "name": "stdout",
     "output_type": "stream",
     "text": [
      "Fitting Parameters: [ 22.29979604 -33.82528303  11.57675699  -0.07108259]\n"
     ]
    },
    {
     "data": {
      "image/png": "[encoded data removed]",
      "text/plain": [
       "<Figure size 432x288 with 1 Axes>"
      ]
     },
     "metadata": {
      "needs_background": "light"
     },
     "output_type": "display_data"
    }
   ],
   "source": [
    "# M=3\n",
    "p_lsq_3 = fitting(M=3)"
   ]
  },
  {
   "cell_type": "markdown",
   "id": "cf7892d4",
   "metadata": {
    "slideshow": {
     "slide_type": "slide"
    }
   },
   "source": [
    "相反，如果$M=9$，多项式曲线通过每个数据点，训练误差为0"
   ]
  },
  {
   "cell_type": "code",
   "execution_count": 12,
   "id": "a5bac110",
   "metadata": {
    "slideshow": {
     "slide_type": "subslide"
    }
   },
   "outputs": [
    {
     "name": "stdout",
     "output_type": "stream",
     "text": [
      "Fitting Parameters: [ 5.49154255e+04 -2.51664568e+05  4.85577862e+05 -5.12235853e+05\n",
      "  3.20631132e+05 -1.20641470e+05  2.62619873e+04 -2.98296182e+03\n",
      "  1.38373272e+02 -3.50133956e-02]\n"
     ]
    },
    {
     "data": {
      "image/png": "[encoded data removed]",
      "text/plain": [
       "<Figure size 432x288 with 1 Axes>"
      ]
     },
     "metadata": {
      "needs_background": "light"
     },
     "output_type": "display_data"
    }
   ],
   "source": [
    "# M=9\n",
    "p_lsq_9 = fitting(M=9)"
   ]
  },
  {
   "cell_type": "markdown",
   "id": "0370588a",
   "metadata": {
    "slideshow": {
     "slide_type": "slide"
    }
   },
   "source": [
    "* 在多项式函数拟合中可以看到，随着多项式次数（模型复杂度）的增加，训练误差会减小，直至趋向于0\n",
    "* 但是测试误差却不如此，它会随着多项式次数（模型复杂度）的增加先减小而后增大"
   ]
  },
  {
   "cell_type": "markdown",
   "id": "73d0929e",
   "metadata": {
    "slideshow": {
     "slide_type": "slide"
    }
   },
   "source": [
    "## 正则化与交叉验证\n",
    "\n",
    "### 正则化\n",
    "\n",
    "* 正则化项可以是参数向量的$L_2$范数：\n",
    "$$\n",
    "L(w)=\\frac{1}{N}\\sum_{i=1}^N(f(x_i;w)-y_i)^2+\\frac{\\lambda}{2}\\|w\\|^2\n",
    "$$\n",
    "* 正则化项也可以是参数向量的$L_1$范数：\n",
    "$$\n",
    "L(w)=\\frac{1}{N}\\sum_{i=1}^N(f(x_i;w)-y_i)^2+\\lambda\\|w\\|_1\n",
    "$$"
   ]
  },
  {
   "cell_type": "markdown",
   "id": "2739ba79",
   "metadata": {
    "slideshow": {
     "slide_type": "slide"
    }
   },
   "source": [
    "* 第1项的经验风险较小的模型可能较复杂（有多个非零参数），这时第2项的模型复杂度会较大\n",
    "* 正则化的作用是选择经验风险与模型复杂度同时较小的模型."
   ]
  },
  {
   "cell_type": "code",
   "execution_count": 13,
   "id": "9e2763ce",
   "metadata": {
    "slideshow": {
     "slide_type": "subslide"
    }
   },
   "outputs": [],
   "source": [
    "regularization = 0.0001\n",
    "\n",
    "\n",
    "def residuals_func_regularization(p, x, y):\n",
    "    ret = fit_func(p, x) - y\n",
    "    ret = np.append(ret, np.sqrt(0.5 * regularization * np.square(p)))  # L2范数作为正则化项\n",
    "    return ret"
   ]
  },
  {
   "cell_type": "markdown",
   "id": "7479b781",
   "metadata": {
    "slideshow": {
     "slide_type": "subslide"
    }
   },
   "source": [
    "`sum(func**2, axis=0)` within `leastsq`"
   ]
  },
  {
   "cell_type": "code",
   "execution_count": 14,
   "id": "8107cbf6",
   "metadata": {
    "slideshow": {
     "slide_type": "subslide"
    }
   },
   "outputs": [],
   "source": [
    "# 最小二乘法,加正则化项\n",
    "p_init = np.random.rand(9 + 1)\n",
    "p_lsq_regularization = leastsq(residuals_func_regularization, p_init, args=(x, y))"
   ]
  },
  {
   "cell_type": "code",
   "execution_count": 15,
   "id": "86e65791",
   "metadata": {
    "slideshow": {
     "slide_type": "subslide"
    }
   },
   "outputs": [
    {
     "data": {
      "text/plain": [
       "<matplotlib.legend.Legend at 0x7fee81157e50>"
      ]
     },
     "execution_count": 15,
     "metadata": {},
     "output_type": "execute_result"
    },
    {
     "data": {
      "image/png": "[encoded data removed]",
      "text/plain": [
       "<Figure size 432x288 with 1 Axes>"
      ]
     },
     "metadata": {
      "needs_background": "light"
     },
     "output_type": "display_data"
    }
   ],
   "source": [
    "plt.plot(x_points, real_func(x_points), label=\"real\")\n",
    "plt.plot(x_points, fit_func(p_lsq_9[0], x_points), label=\"fitted curve\")\n",
    "plt.plot(x_points, fit_func(p_lsq_regularization[0], x_points), label=\"regularization\")\n",
    "plt.plot(x, y, \"bo\", label=\"noise\")\n",
    "plt.legend()"
   ]
  },
  {
   "cell_type": "markdown",
   "id": "8cc5dbea",
   "metadata": {
    "slideshow": {
     "slide_type": "slide"
    }
   },
   "source": [
    "### 交叉验证\n",
    "\n",
    "* 训练集用来训练模型，验证集用于模型的选择，而测试集用于最终对学习方法的评估\n",
    "* $S$折交叉验证\n",
    "    1. 首先随机地 将巳给数据切分为$S$个互不相交的大小相同的子集\n",
    "    1. 然后利用$S-1$个子集的数据 训练模型，利用余下的子集测试模型\n",
    "    1. 将这一过程对可能的$S$种选择重复进行\n",
    "    1. 最后选出$S$次评测中平均测试误差最小的模型."
   ]
  },
  {
   "cell_type": "markdown",
   "id": "7ce25e15",
   "metadata": {
    "slideshow": {
     "slide_type": "slide"
    }
   },
   "source": [
    "## 分类问题\n",
    "\n",
    "对于二类分类问题常用的评价指标是精确率（precision）与召回率（recall）\n",
    "* 精确率定义为\n",
    "$$\n",
    "P=\\frac{TP}{TP+FP}\n",
    "$$\n",
    "* 召回率定义为\n",
    "$$\n",
    "R=\\frac{TP}{TP+FN}\n",
    "$$\n"
   ]
  },
  {
   "cell_type": "markdown",
   "id": "65fb8aff",
   "metadata": {
    "slideshow": {
     "slide_type": "slide"
    }
   },
   "source": [
    "* 此外，还有$F_1$值，是精确率和召回率的调和均值，即\n",
    "$$\n",
    "\\frac{2}{F_1}=\\frac{1}{P}+\\frac{1}{N}\n",
    "$$\n",
    "精确率和召回率都高时，$F_1$值也会高"
   ]
  },
  {
   "cell_type": "markdown",
   "id": "7bb7a368",
   "metadata": {
    "slideshow": {
     "slide_type": "slide"
    }
   },
   "source": [
    "* 在网络安全领域，可以利用日志数据的分类对非法入侵进行检测\n",
    "\n",
    "* **文本分类 / text classification**\n",
    "    * 输入是文本的特征向量，输出是文本的类别\n",
    "    * 通常把文本中的单词定义为特征，每个单词对应一个特征\n",
    "    * 单词的特征可以是二值的，如果单词在文本中出现则取值是1，否则是0\n",
    "    * 也可以是多值的，表示单词在文本中出现的频率"
   ]
  },
  {
   "cell_type": "markdown",
   "id": "6aa14fff",
   "metadata": {
    "slideshow": {
     "slide_type": "slide"
    }
   },
   "source": [
    "直观地，如果“股票”“银行”“货币”这些词出现很多，这个文本可能属于经济类，\n",
    "如果“网球”“比赛”“运动员”这些词频繁出现，这个文本可能属于体育类"
   ]
  },
  {
   "cell_type": "markdown",
   "id": "9b951553",
   "metadata": {
    "slideshow": {
     "slide_type": "slide"
    }
   },
   "source": [
    "## 标注问题\n",
    "\n",
    "* 标注问题的输入是一个观测序列，输出是一个标记序列或状态序列\n",
    "* 具体地，对一个观测序列$x_{N+1}=(x^{(1)}_{N+1},x^{(2)}_{N+1},\\dotsc,x^{(n)}_{N+1})^T$找到使条件概率\n",
    "$P((y^{(1)}_{N+1},y^{(2)}_{N+1},\\dotsc,y^{(n)}_{N+1})^T|(x^{(1)}_{N+1},x^{(2)}_{N+1},\\dotsc,x^{(n)}_{N+1})^T)$最大的标记序列$y_{N+1}=(y^{(1)}_{N+1},y^{(2)}_{N+1},\\dotsc,y^{(n)}_{N+1})^T$"
   ]
  },
  {
   "cell_type": "markdown",
   "id": "5a9be848",
   "metadata": {
    "slideshow": {
     "slide_type": "slide"
    }
   },
   "source": [
    "* 自然语言处理中的词性标注（part of speech tagging）就是一个典型的标注问题\n",
    "* 给定一个由单词组成的句子，对这个句子中的每一个单词进行词性标注，即对一个单词序列预测其对应的词性标记序列"
   ]
  },
  {
   "cell_type": "markdown",
   "id": "bc4e02ba",
   "metadata": {
    "slideshow": {
     "slide_type": "slide"
    }
   },
   "source": [
    "* 从英文文章中抽取基本名词短语\n",
    "* 英文句子是一个观测序列\n",
    "* 标记表示名词短语的“开始\"、“结束”或“其他”（分别以B、E、O表示），标记序列表示英文句子中基本名词短语的所在位置\n",
    "* 将标记“开始” 到标记“结束”的单词作为名词短语"
   ]
  },
  {
   "cell_type": "markdown",
   "id": "f68b4f9f",
   "metadata": {
    "slideshow": {
     "slide_type": "subslide"
    }
   },
   "source": [
    "* 输入：At Microsoft Research, we have an insatiable curiosity and the desire to create new technology that will help define the computing experience.\n",
    "* 输出：At/O Microsoft/B Research/E, we/0 have/O an/O insatiable/B curiosity/E and/O the/O desire/BE to/O create/O new/B technology/E that/O will/O help/O define/O the/O computing/B experience/E."
   ]
  }
 ],
 "metadata": {
  "celltoolbar": "Slideshow",
  "kernelspec": {
   "display_name": "Python 3",
   "language": "python",
   "name": "python3"
  },
  "language_info": {
   "codemirror_mode": {
    "name": "ipython",
    "version": 3
   },
   "file_extension": ".py",
   "mimetype": "text/x-python",
   "name": "python",
   "nbconvert_exporter": "python",
   "pygments_lexer": "ipython3",
   "version": "3.8.8"
  }
 },
 "nbformat": 4,
 "nbformat_minor": 5
}

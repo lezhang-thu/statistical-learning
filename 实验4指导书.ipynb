{
 "cells": [
  {
   "cell_type": "markdown",
   "id": "59a550f5",
   "metadata": {
    "slideshow": {
     "slide_type": "slide"
    }
   },
   "source": [
    "# 数据分析与决策系统实验4\n",
    "\n",
    "1. 实现教材例7.2的计算过程\n",
    "\n",
    "    1. 输入3个点$x_1,x_2,x_3$的坐标，确保这3个点是线性可分的\n",
    "    1. 因为对偶问题的目标函数总是为：$-\\frac{1}{2}\\sum_{i=1}^N\\sum_{j=1}^N\\alpha_i\\alpha_jy_iy_j(x_i\\cdot x_j)+\\sum_{i=1}^N\\alpha_i$，且约束中总是有$\\sum_{i=1}^N\\alpha_iy_i=0$，所以，目标函数总是可以表示为仅为$\\alpha_1,\\alpha_2$函数。请申请一个大小为5的数组，分别表示目标函数中$\\alpha^2_1,\\alpha^2_2,\\alpha_1\\alpha_2,\\alpha_1,\\alpha_2$中的系数\n",
    "    1. 对$\\alpha_1,\\alpha_2$求偏导数并令其为0，请输出相应的两个方程：\n",
    "      \n",
    "       ```\n",
    "       a_1 * alpha_1 + a_2 * alpha_2 = 0\n",
    "       b_1 * alpha_1 + b_2 * alpha_2 = 0\n",
    "       ```\n",
    "      \n",
    "       注意上述的`a_1, a_2, b_1, b_2`需替换为实际的系数\n",
    "      \n",
    "    1. 求解上述方程，并输出$\\alpha_1,\\alpha_2,\\alpha_3$的值。若不满足$\\alpha_i\\ge 0$的要求，请按例7.2的做法继续考虑$\\alpha_1=0$时的结果以及$\\alpha_2=0$时的结果，取两者之间的最小值\n",
    "   \n",
    "    1. 根据如下的公式获得分离超平面：\n",
    "   \n",
    "       \\begin{align*}\n",
    "       w^*&=\\sum_{i=1}^N\\alpha^*_iy_ix_i\\\\\n",
    "       b^*&=y_j-\\sum_{i=1}^N\\alpha^*_iy_i(x_i\\cdot x_j)\n",
    "       \\end{align*}\n",
    "\n",
    "       （存在下标$j$，使得$\\alpha^*_j>0$）\n",
    "\n",
    "       输出$w_1,w_2,b$的值：\n",
    "\n",
    "       ```\n",
    "       w_1 = x, w_2 = y, b = z\n",
    "       ```\n",
    "\n",
    "       其中`x, y, z`需替换为实际的值\n",
    "\n",
    "    1. **要求在例7.2给出的测试用例上运行结果正确**\n",
    "    \n",
    "       \n",
    "    \n",
    "1. 实验课期间找老师验收。实验课后并提交**一页**PDF格式的实验报告。要求：\n",
    "    1. 自己在实验中遇到的困难，以及如何解决的\n",
    "    1. 对关键代码的分析\n",
    "    1. 运行结果截图\n",
    "    1. 格式要求：\n",
    "        1. 字体：中文为仿宋_GB2312，英文及代码为Courier New；\n",
    "        1. 字体大小为五号\n",
    "        1. 标题为：数据分析与决策系统实验3，字体大小为三号，居中"
   ]
  }
 ],
 "metadata": {
  "celltoolbar": "Slideshow",
  "kernelspec": {
   "display_name": "Python 3",
   "language": "python",
   "name": "python3"
  },
  "language_info": {
   "codemirror_mode": {
    "name": "ipython",
    "version": 3
   },
   "file_extension": ".py",
   "mimetype": "text/x-python",
   "name": "python",
   "nbconvert_exporter": "python",
   "pygments_lexer": "ipython3",
   "version": "3.8.8"
  }
 },
 "nbformat": 4,
 "nbformat_minor": 5
}

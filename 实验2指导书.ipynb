{
 "cells": [
  {
   "cell_type": "markdown",
   "id": "59a550f5",
   "metadata": {
    "slideshow": {
     "slide_type": "slide"
    }
   },
   "source": [
    "# 数据分析与决策系统实验2\n",
    "\n",
    "1. 在教材例4.1上，实现朴素贝叶斯分类器\n",
    "    * 对于给定的输入$x=(2,S)^T$，能够输出：\"x = (2, S), y = -1\"\n",
    "    * 对于给定的输入$x=(3,M)^T$，能够输出：\"x = (3, M), y = 1\"\n",
    "    * 对于给定的输入$x=(1,S)^T$，能够输出：\"x = (1, S), y = -1\"\n",
    "1. 实验课期间找老师验收。实验课后并提交**一页**PDF格式的实验报告。要求：\n",
    "    1. 自己在实验中遇到的困难，以及如何解决的\n",
    "    1. 对关键代码的分析\n",
    "    1. 运行结果截图\n",
    "    1. 格式要求：\n",
    "        1. 字体：中文为仿宋_GB2312，英文及代码为Courier New；\n",
    "        1. 字体大小为五号\n",
    "        1. 标题为：数据分析与决策系统实验1，字体大小为三号，居中"
   ]
  }
 ],
 "metadata": {
  "celltoolbar": "Slideshow",
  "kernelspec": {
   "display_name": "Python 3",
   "language": "python",
   "name": "python3"
  },
  "language_info": {
   "codemirror_mode": {
    "name": "ipython",
    "version": 3
   },
   "file_extension": ".py",
   "mimetype": "text/x-python",
   "name": "python",
   "nbconvert_exporter": "python",
   "pygments_lexer": "ipython3",
   "version": "3.8.8"
  }
 },
 "nbformat": 4,
 "nbformat_minor": 5
}

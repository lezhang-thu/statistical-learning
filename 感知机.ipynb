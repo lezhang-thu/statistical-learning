{
 "cells": [
  {
   "cell_type": "markdown",
   "id": "5ff6933a",
   "metadata": {
    "slideshow": {
     "slide_type": "slide"
    }
   },
   "source": [
    "# 感知机\n",
    "\n",
    "* 感知机（perceptron）是二类分类的线性分类模型，其输入为实例的特征向量，输出为实例的类别，取+1和-1二值\n",
    "* 感知机对应于输入空间（特征空间）中将实例划分为正负两类的分离超平面，属于判别模型\n",
    "* 感知机1957年由Rosenblatt提出，是神经网络与支持向量机的基础"
   ]
  },
  {
   "cell_type": "markdown",
   "id": "385fc05e",
   "metadata": {
    "slideshow": {
     "slide_type": "slide"
    }
   },
   "source": [
    "* 感知机学习旨在求出将训练数据进行线性划分的分离超平面\n",
    "* 为此，导入基于误分类的损失函数，利用梯度下降法对损失函数进行极小化，求得感知机模型\n",
    "\n",
    "课堂提问\\_1：梯度 / gradient"
   ]
  },
  {
   "cell_type": "markdown",
   "id": "48561e51",
   "metadata": {
    "slideshow": {
     "slide_type": "slide"
    }
   },
   "source": [
    "## 感知机模型\n",
    "\n",
    "* 输入空间（特征空间）是$\\mathcal{X}\\subseteq\\mathbf{R}^n$。输入$x\\in\\mathcal{X}$对应于输入空间（特征空间）的点\n",
    "* 输出空间是$\\mathcal{Y}=\\{+1,-1\\}$。输出$y\\in\\mathcal{Y}$表示实例的类别\n",
    "\n",
    "$$\n",
    "f(x)=\\mathrm{sign}(w\\cdot x+b)\n",
    "$$\n",
    "\n",
    "* $w\\in\\mathbf{R}^n$叫作权值向量（weight vector）\n",
    "* $b\\in\\mathbf{R}$叫作偏置（bias）"
   ]
  },
  {
   "cell_type": "markdown",
   "id": "62b89241",
   "metadata": {
    "slideshow": {
     "slide_type": "slide"
    }
   },
   "source": [
    "## 感知机模型的假设空间\n",
    "\n",
    "函数集合\n",
    "$$\n",
    "\\{f\\mid f(x)=w\\cdot x+b\\}\n",
    "$$"
   ]
  },
  {
   "cell_type": "markdown",
   "id": "ec82e69e",
   "metadata": {
    "slideshow": {
     "slide_type": "slide"
    }
   },
   "source": [
    "## 几何解释\n",
    "\n",
    "* 线性方程$w\\cdot x+b=0$\n",
    "对应于特征空间$\\mathbf{R}^n$中的一个超平面$S$\n",
    "* 这个超平面将特征空间划分为两个部分\n",
    "* 位于两部分的点（特征向量）分 \n",
    "别被分为正、负两类"
   ]
  },
  {
   "cell_type": "markdown",
   "id": "23f512a8",
   "metadata": {
    "slideshow": {
     "slide_type": "slide"
    }
   },
   "source": [
    "超平面$S$称为分离超平面（separating hyperplane）\n",
    "\n",
    "* 课堂提问\\_2：图2.1中$w\\cdot x+b=0$的具体形式，若考虑过点$(0,1)$及$(1,0)$\n",
    "* 课堂提问\\_3：超平面的法向量、超平面的截距\n",
    "* 课堂提问\\_4：图2.1中$-\\tfrac{b}{\\|w\\|}$\n",
    "* 课堂提问\\_5：输入空间$\\mathbf{R}^n$中任一点$x_0$到超平面$S$的距离：\n",
    "$$\n",
    "\\frac{1}{\\|w\\|}|w\\cdot x_0+b|\n",
    "$$"
   ]
  },
  {
   "cell_type": "markdown",
   "id": "e70b915c",
   "metadata": {
    "slideshow": {
     "slide_type": "slide"
    }
   },
   "source": [
    "## 数据集的线性可分性\n",
    "\n",
    "* 给定一个数据集\n",
    "$$T=\\{(x_1,y_1),(x_2,y_2),\\dots,(x_N,y_N)\\}$$\n",
    "* 如果存在某个超平面$S$\n",
    "$$\n",
    "w\\cdot x+b=0\n",
    "$$\n",
    "能够将数据集的正实例点和负实例点完全正确地划分到超平面的两侧\n",
    "* 数据集$T$为线性可分数据集（linearly separable data set）"
   ]
  },
  {
   "cell_type": "markdown",
   "id": "0585c2da",
   "metadata": {
    "slideshow": {
     "slide_type": "slide"
    }
   },
   "source": [
    "## 感知机学习策略\n",
    "\n",
    "* 为了找出这样的超平面，即确定感知机模型参数$w,b$，需要确定一个学习策略，即定义（经验）损失函数并将损失函数极小化"
   ]
  },
  {
   "cell_type": "markdown",
   "id": "6a087596",
   "metadata": {
    "slideshow": {
     "slide_type": "slide"
    }
   },
   "source": [
    "## 感知机学习策略\n",
    "\n",
    "* 损失函数的一个自然选择是误分类点的总数。但是，这样的损失函数不是参数$w,b$的连续可导函数，不易优化\n",
    "* 损失函数的另一个选择是误分类点到超平面$S$的总距离，这是感知机所采用的"
   ]
  },
  {
   "cell_type": "markdown",
   "id": "031ca8f3",
   "metadata": {
    "slideshow": {
     "slide_type": "slide"
    }
   },
   "source": [
    "## 感知机学习策略\n",
    "\n",
    "* 误分类点$x_i$到超平面$S$的距离是\n",
    "$$\n",
    "-\\frac{1}{\\|w\\|}y_i(w\\cdot x_i+b)\n",
    "$$\n",
    "\n",
    "课堂提问\\_6：从$|w\\cdot x_0+b|$到$-y_i(w\\cdot x_i+b)$\n"
   ]
  },
  {
   "cell_type": "markdown",
   "id": "6bd968c9",
   "metadata": {
    "slideshow": {
     "slide_type": "slide"
    }
   },
   "source": [
    "## 感知机学习策略\n",
    "\n",
    "* 假设超平面$S$的误分类点集合为$M$，那么所有误分类点到超平面$S$的总距离为\n",
    "$$\n",
    "-\\frac{1}{\\|w\\|}\\sum_{x_i\\in M}y_i(w\\cdot x_i+b)\n",
    "$$"
   ]
  },
  {
   "cell_type": "markdown",
   "id": "bc95c857",
   "metadata": {
    "slideshow": {
     "slide_type": "slide"
    }
   },
   "source": [
    "## 感知机学习策略\n",
    "\n",
    "* 感知机$\\mathrm{sign}(w\\cdot x+b)$学习的损失函数定义为\n",
    "$$\n",
    "L(w,b)=-\\sum_{x_i\\in M}y_i(w\\cdot x_i+b)\n",
    "$$\n",
    "* 显然，损失函数$L(w,b)$是非负的\n",
    "\n",
    "课堂提问\\_7：非负的"
   ]
  },
  {
   "cell_type": "markdown",
   "id": "ced5f8a0",
   "metadata": {
    "slideshow": {
     "slide_type": "slide"
    }
   },
   "source": [
    "## 感知机学习算法\n",
    "\n",
    "* 感知机学习算法是误分类驱动的\n",
    "* 具体采用随机梯度下降法（stochastic gradient descent）"
   ]
  },
  {
   "cell_type": "markdown",
   "id": "c34bd690",
   "metadata": {
    "slideshow": {
     "slide_type": "slide"
    }
   },
   "source": [
    "## 感知机学习算法\n",
    "\n",
    "* 首先，任意选取一个超平面$w_0,b_0$\n",
    "* 然后用梯度下降法不断地极小化目标函数\n",
    "* 极小化过程中不是一次使$M$中所有误分类点的梯度下降，而是一次随机选取一个误分类点使其梯度下降\n",
    "\n",
    "课堂提问\\_8：stochastic gradient descent中的stochastic"
   ]
  },
  {
   "cell_type": "markdown",
   "id": "429c0686",
   "metadata": {
    "slideshow": {
     "slide_type": "slide"
    }
   },
   "source": [
    "## 感知机学习算法\n",
    "\n",
    "* 假设误分类点集合$M$是固定的，那么损失函数$L(w,b)$的梯度由\n",
    "$$\n",
    "\\begin{aligned}\n",
    "\\nabla_wL(w,b)&=-\\sum_{x_i\\in M}y_ix_i\\\\\n",
    "\\nabla_bL(w,b)&=-\\sum_{x_i\\in M}y_i\n",
    "\\end{aligned}\n",
    "$$\n",
    "给出\n",
    "\n",
    "课堂提问\\_9：上述形式为什么"
   ]
  },
  {
   "cell_type": "markdown",
   "id": "a90fb2dc",
   "metadata": {
    "slideshow": {
     "slide_type": "slide"
    }
   },
   "source": [
    "## 感知机学习算法\n",
    "\n",
    "* 随机选取一个误分类点$(x_i,y_i)$，对$w,b$进行更新：\n",
    "$$\n",
    "\\begin{aligned}\n",
    "w&\\gets w+\\eta y_ix_i\\\\\n",
    "b&\\gets b+\\eta y_i\n",
    "\\end{aligned}\n",
    "$$\n",
    "\n",
    "$\\eta$ 称为学习率（learning rate）"
   ]
  },
  {
   "cell_type": "markdown",
   "id": "564cab94",
   "metadata": {
    "slideshow": {
     "slide_type": "slide"
    }
   },
   "source": [
    "## 感知机学习算法\n",
    "\n",
    "1. 选取初值$w_0,b_0$\n",
    "1. 在训练集中选取数据$(x_i,y_i)$\n",
    "1. 如果$y_i(w\\cdot x_i+b)\\le 0$\n",
    "$$\n",
    "\\begin{aligned}\n",
    "w&\\gets w+\\eta y_ix_i\\\\\n",
    "b&\\gets b+\\eta y_i\n",
    "\\end{aligned}\n",
    "$$\n",
    "4. 转至2，直至训练集中没有误分类点"
   ]
  },
  {
   "cell_type": "markdown",
   "id": "7b76d49a",
   "metadata": {
    "slideshow": {
     "slide_type": "slide"
    }
   },
   "source": [
    "## 实例\n",
    "\n",
    "* 训练数据集\n",
    "* 正实例点是$x_1=(3,3)^T$，$x_2=(4,3)^T$\n",
    "* 负实例点是$x_3=(1,1)^T$"
   ]
  },
  {
   "cell_type": "code",
   "execution_count": 1,
   "id": "b70b5471",
   "metadata": {
    "slideshow": {
     "slide_type": "slide"
    }
   },
   "outputs": [],
   "source": [
    "import matplotlib.pyplot as plt\n",
    "import numpy as np\n",
    "\n",
    "%matplotlib inline"
   ]
  },
  {
   "cell_type": "code",
   "execution_count": 2,
   "id": "5679fe6d",
   "metadata": {
    "slideshow": {
     "slide_type": "subslide"
    }
   },
   "outputs": [],
   "source": [
    "def scatter_points():\n",
    "    x_1 = np.asarray([3, 4, 1], dtype=np.float32)\n",
    "    x_2 = np.asarray([3, 3, 1], dtype=np.float32)\n",
    "\n",
    "    # use set_position\n",
    "    ax = plt.gca()  # Get the current Axes instance\n",
    "    ax.spines[\"top\"].set_color(\"none\")\n",
    "    ax.spines[\"left\"].set_position(\"zero\")\n",
    "    ax.spines[\"right\"].set_color(\"none\")\n",
    "    ax.spines[\"bottom\"].set_position(\"zero\")\n",
    "\n",
    "    plt.axis(\"scaled\")\n",
    "\n",
    "    plt.scatter(x_1[:2], x_2[:2], label=\"0\", facecolors=\"none\", edgecolors=\"y\")\n",
    "    plt.scatter(x_1[2:], x_2[2:], label=\"1\", marker=\"x\", facecolors=\"g\")\n",
    "    plt.xlabel(r\"$x^{(1)}$\")\n",
    "    plt.ylabel(r\"$x^{(2)}$\")\n",
    "    plt.xlim(-2, 7)\n",
    "    plt.ylim(-2, 7)\n",
    "\n",
    "    plt.xticks(np.arange(-2, 8, 1))\n",
    "\n",
    "    plt.legend()"
   ]
  },
  {
   "cell_type": "code",
   "execution_count": 3,
   "id": "ffde377b",
   "metadata": {
    "slideshow": {
     "slide_type": "subslide"
    }
   },
   "outputs": [
    {
     "data": {
      "image/png": "[encoded data removed]",
      "text/plain": [
       "<Figure size 432x288 with 1 Axes>"
      ]
     },
     "metadata": {
      "needs_background": "light"
     },
     "output_type": "display_data"
    }
   ],
   "source": [
    "scatter_points()"
   ]
  },
  {
   "cell_type": "markdown",
   "id": "8b137300",
   "metadata": {
    "slideshow": {
     "slide_type": "subslide"
    }
   },
   "source": [
    "## Perceptron"
   ]
  },
  {
   "cell_type": "code",
   "execution_count": 4,
   "id": "c3d8f84f",
   "metadata": {
    "slideshow": {
     "slide_type": "subslide"
    }
   },
   "outputs": [],
   "source": [
    "X = np.asarray([[3, 3], [4, 3], [1, 1]], dtype=np.float32)\n",
    "y = np.asarray([1, 1, -1], dtype=np.int32)"
   ]
  },
  {
   "cell_type": "code",
   "execution_count": 5,
   "id": "dd8f1229",
   "metadata": {
    "slideshow": {
     "slide_type": "subslide"
    }
   },
   "outputs": [],
   "source": [
    "# 数据线性可分、二分类数据\n",
    "class Model:\n",
    "    def __init__(self):\n",
    "        self.w = np.zeros(2, dtype=np.float32)\n",
    "        self.b = 0\n",
    "        self.l_rate = 1\n",
    "\n",
    "    def sign(self, x, w, b):\n",
    "        y = np.dot(x, w) + b\n",
    "        return y\n",
    "\n",
    "    # 随机梯度下降法\n",
    "    def fit(self, X_train, y_train):\n",
    "        is_wrong = False\n",
    "        while not is_wrong:\n",
    "            wrong_count = 0\n",
    "            for d in range(len(X_train)):\n",
    "                X = X_train[d]\n",
    "                y = y_train[d]\n",
    "                if y * self.sign(X, self.w, self.b) <= 0:\n",
    "                    self.w = self.w + self.l_rate * np.dot(y, X)\n",
    "                    self.b = self.b + self.l_rate * y\n",
    "                    wrong_count += 1\n",
    "            if wrong_count == 0:\n",
    "                is_wrong = True\n",
    "        return \"Perceptron Model!\""
   ]
  },
  {
   "cell_type": "code",
   "execution_count": 6,
   "id": "a27ed2d8",
   "metadata": {
    "slideshow": {
     "slide_type": "subslide"
    }
   },
   "outputs": [
    {
     "data": {
      "text/plain": [
       "'Perceptron Model!'"
      ]
     },
     "execution_count": 6,
     "metadata": {},
     "output_type": "execute_result"
    }
   ],
   "source": [
    "perceptron = Model()\n",
    "perceptron.fit(X, y)"
   ]
  },
  {
   "cell_type": "code",
   "execution_count": 7,
   "id": "56e6a609",
   "metadata": {
    "slideshow": {
     "slide_type": "subslide"
    }
   },
   "outputs": [
    {
     "data": {
      "image/png": "[encoded data removed]",
      "text/plain": [
       "<Figure size 432x288 with 1 Axes>"
      ]
     },
     "metadata": {
      "needs_background": "light"
     },
     "output_type": "display_data"
    }
   ],
   "source": [
    "x_points = np.linspace(-2, 7, 10)\n",
    "y_ = -(perceptron.w[0] * x_points + perceptron.b) / perceptron.w[1]\n",
    "plt.plot(x_points, y_)\n",
    "\n",
    "scatter_points()"
   ]
  },
  {
   "cell_type": "markdown",
   "id": "c3408cb0",
   "metadata": {
    "slideshow": {
     "slide_type": "slide"
    }
   },
   "source": [
    "## 感知机学习算法的对偶形式\n",
    "\n",
    "* 不失一般性，可假设初始值$w_0,b_0$均为0\n",
    "* 逐步修改$w,b$，设修改$n$次，则$w,b$关于$(x_i,y_i)$的增量分别是$\\alpha_iy_ix_i$和$\\alpha_iy_i$，这里$\\alpha_i=n_i\\eta$"
   ]
  },
  {
   "cell_type": "markdown",
   "id": "7a53bdf1",
   "metadata": {
    "slideshow": {
     "slide_type": "slide"
    }
   },
   "source": [
    "## 感知机学习算法的对偶形式\n",
    "\n",
    "**怎样理解**\n",
    "\n",
    "* $n$次为总数\n",
    "* \n",
    "\n",
    "$$\\sum_{1\\le i\\le N}n_i=n$$\n",
    "其中$N$为训练集中的实例点的个数"
   ]
  },
  {
   "cell_type": "markdown",
   "id": "4e37d713",
   "metadata": {
    "slideshow": {
     "slide_type": "slide"
    }
   },
   "source": [
    "## 感知机学习算法的对偶形式\n",
    "\n",
    "* 最后学习到的$w,b$可以分别表示为\n",
    "$$\n",
    "\\begin{aligned}\n",
    "w&=\\sum_{i=1}^N\\alpha_iy_ix_i\\\\\n",
    "b&=\\sum_{i=1}^N\\alpha_iy_i\n",
    "\\end{aligned}\n",
    "$$\n",
    "\n",
    "* 从这个角度，求解$\\alpha=(\\alpha_1,\\alpha_2,\\dotsc,\\alpha_N)^T$即可"
   ]
  },
  {
   "cell_type": "markdown",
   "id": "f6ac8365",
   "metadata": {
    "slideshow": {
     "slide_type": "slide"
    }
   },
   "source": [
    "## 感知机学习算法的对偶形式\n",
    "\n",
    "* Reminder $\\alpha_i=n_i\\eta$\n",
    "* 关注点为$n_i$"
   ]
  },
  {
   "cell_type": "markdown",
   "id": "37e4986f",
   "metadata": {
    "slideshow": {
     "slide_type": "slide"
    }
   },
   "source": [
    "## 感知机学习算法的对偶形式\n",
    "\n",
    "* 什么时候$n_i$ increments\n",
    "* 当$y_i(w\\cdot x_i+b)\\le 0$\n",
    "* 而\n",
    "$$\n",
    "w=\\sum_{i=1}^N\\alpha_iy_ix_i\n",
    "$$\n",
    "* 有：\n",
    "$$\n",
    "y_i\\biggl[\\Bigl(\\sum_{j=1}^N\\alpha_jy_jx_j\\Bigr)\\cdot x_i+b\\biggr]\\le 0\n",
    "$$"
   ]
  },
  {
   "cell_type": "markdown",
   "id": "61c0dc94",
   "metadata": {
    "slideshow": {
     "slide_type": "subslide"
    }
   },
   "source": [
    "## 感知机学习算法的对偶形式\n",
    "\n",
    "* 简化\n",
    "$$\n",
    "\\Bigl(\\sum_{j=1}^N\\alpha_jy_jx_j\\Bigr)\\cdot x_i=\\sum_{j=1}^N\\alpha_jy_j(x_j\\cdot x_i)\n",
    "$$\n",
    "* Gram matrix\n",
    "$$\n",
    "G=[x_i\\cdot x_j]_{N\\times N}\n",
    "$$"
   ]
  }
 ],
 "metadata": {
  "celltoolbar": "Slideshow",
  "kernelspec": {
   "display_name": "Python 3",
   "language": "python",
   "name": "python3"
  },
  "language_info": {
   "codemirror_mode": {
    "name": "ipython",
    "version": 3
   },
   "file_extension": ".py",
   "mimetype": "text/x-python",
   "name": "python",
   "nbconvert_exporter": "python",
   "pygments_lexer": "ipython3",
   "version": "3.8.8"
  }
 },
 "nbformat": 4,
 "nbformat_minor": 5
}

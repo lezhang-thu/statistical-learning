{
 "cells": [
  {
   "cell_type": "markdown",
   "id": "05787026",
   "metadata": {
    "slideshow": {
     "slide_type": "slide"
    }
   },
   "source": [
    "# 隐马尔可夫模型\n",
    "\n",
    "隐马尔可夫模型（hidden Markov model, HMM）\n",
    "\n",
    "* 描述由隐藏的马尔可夫链随机生成观测序列的过程\n",
    "* 属于生成模型"
   ]
  },
  {
   "cell_type": "markdown",
   "id": "26fa16ae",
   "metadata": {
    "slideshow": {
     "slide_type": "slide"
    }
   },
   "source": [
    "* 是关于时序的概率模型\n",
    "* 描述由一个隐藏的马尔可夫链随机生成**不可观测的状态随机序列**，再由各个状态生成一个观测而产生**观测随机序列**的过程\n",
    "* state sequence\n",
    "* observation sequence"
   ]
  },
  {
   "cell_type": "markdown",
   "id": "68c3acc8",
   "metadata": {
    "slideshow": {
     "slide_type": "slide"
    }
   },
   "source": [
    "* 所有可能的状态的集合：$Q=\\{q_1,q_2,\\dotsc,q_N\\}$\n",
    "* 所有可能的观测的集合：$V=\\{v_1,v_2,\\dotsc,v_M\\}$\n",
    "* 状态序列：$I=(i_1,i_2,\\dotsc,i_T)$；状态转移概率矩阵：\n",
    "\n",
    "  \\begin{align*}\n",
    "  A &= [a_{ij}]_{N\\times N} \\\\\n",
    "  a_{ij} &= P(i_{t+1}=q_j| i_t=q_i)\n",
    "  \\end{align*}\n",
    "* 观测概率矩阵：\n",
    "\n",
    "  \\begin{align*}\n",
    "  B&=[b_j(k)]_{N\\times M}\\\\\n",
    "  b_j(k)&=P(o_t=v_k|i_t=q_j)\n",
    "  \\end{align*}"
   ]
  },
  {
   "cell_type": "markdown",
   "id": "a77629b9",
   "metadata": {
    "slideshow": {
     "slide_type": "slide"
    }
   },
   "source": [
    "* 状态转移概率矩阵$A$与初始状态概率向量$\\pi$确定了隐藏的马尔可夫链，生成不可观测的状态序列\n",
    "\n",
    "  \\begin{equation*}\n",
    "  \\pi_i=P(i_1=q_i)\n",
    "  \\end{equation*}\n",
    "  \n",
    "  （时刻$t=1$处于状态$q_i$的概率）\n",
    "* 观测概率矩阵$B$确定了如何从状态生成观测"
   ]
  },
  {
   "cell_type": "markdown",
   "id": "41d465c7",
   "metadata": {
    "slideshow": {
     "slide_type": "slide"
    }
   },
   "source": [
    "## 两个基本假设\n",
    "\n",
    "* $P(i_t|i_{t-1},o_{t-1},\\dotsc,i_1,o_1)=P(i_t|i_{t-1})$\n",
    "* 观测独立性假设：任意时刻的观测只依赖于该时刻的马尔可夫链 的状态，与其他观测及状态无关\n",
    "\n",
    "  $P(o_t|i_t)$"
   ]
  },
  {
   "cell_type": "markdown",
   "id": "457b6332",
   "metadata": {
    "slideshow": {
     "slide_type": "slide"
    }
   },
   "source": [
    "## 盒子和球模型\n",
    "\n",
    "两个随机序列\n",
    "\n",
    "* 状态序列：盒子的序列\n",
    "* 观测序列：球的颜色的观测序列\n",
    "\n",
    "讨论：状态转移概率分布"
   ]
  },
  {
   "cell_type": "markdown",
   "id": "7ce86902",
   "metadata": {
    "slideshow": {
     "slide_type": "slide"
    }
   },
   "source": [
    "## 3个基本问题\n",
    "\n",
    "模型$\\lambda=(A,B,\\pi)$；观测序列$O=(o_1,o_2,\\dotsc,o_T)$\n",
    "\n",
    "* $P(O|\\lambda)$\n",
    "* 用极大似然估计的方法估计参数\n",
    "* 解码（decoding）问题\n",
    "\n",
    "  给定观测序列，求最有可能的对应的状态序列\n"
   ]
  },
  {
   "cell_type": "markdown",
   "id": "fc83c45b",
   "metadata": {
    "slideshow": {
     "slide_type": "slide"
    }
   },
   "source": [
    "## Baum-Welch算法\n",
    "\n",
    "EM算法在隐马尔可夫模型学习中的具体实现\n",
    "\n",
    "* 给定训练数据只包含$S$个长度为$T$的观测序列$\\{O_1,O_2,\\dotsc,O_S\\}$\n",
    "* 状态序列数据看作不可观测的隐数据$I$\n",
    "* $P(O|\\lambda)=\\sum_I P(O,I|\\lambda)$"
   ]
  },
  {
   "cell_type": "markdown",
   "id": "6440795e",
   "metadata": {
    "slideshow": {
     "slide_type": "slide"
    }
   },
   "source": [
    "求Q函数$Q(\\lambda,\\bar{\\lambda})$\n",
    "\n",
    "\\begin{align*}\n",
    "Q(\\lambda,\\bar{\\lambda})&=\\sum_I P(I|Q,\\bar{\\lambda})\\log P(Q,I|\\lambda)\\\\\n",
    "&=\\sum_I \\frac{P(Q,I|\\bar{\\lambda})}{P(Q|\\bar{\\lambda})}\\log P(Q,I|\\lambda)\\\\\n",
    "&=\\frac{1}{P(Q|\\bar{\\lambda})}\\sum_I P(Q,I|\\bar{\\lambda})\\log P(Q,I|\\lambda)\n",
    "\\end{align*}\n",
    "\n"
   ]
  },
  {
   "cell_type": "markdown",
   "id": "8f178e75",
   "metadata": {
    "slideshow": {
     "slide_type": "slide"
    }
   },
   "source": [
    "$P(O,I|\\lambda)=\\pi_{i_1}b_{i_1}(o_1)a_{i_1i_2}b_{i_2}(o_2)\\dotsb a_{i_{T-1}i_T}b_{i_T}(o_T)$\n",
    "\n",
    "\\begin{equation*}\n",
    "\\sum_I P(O,I|\\bar{\\lambda})\\log\\pi_{i_1}\n",
    "\\end{equation*}\n",
    "\n",
    "* $I=(i_1,i_2,\\dotsc,i_T)$\n",
    "* $\\log\\pi_{i_1}$只涉及$i_1$"
   ]
  },
  {
   "cell_type": "markdown",
   "id": "1c53a42a",
   "metadata": {
    "slideshow": {
     "slide_type": "slide"
    }
   },
   "source": [
    "\\begin{align*}\n",
    "&\\sum_I P(O,I|\\bar{\\lambda})\\log\\pi_{i_1}\\\\\n",
    "=&\\sum_{i_1}\\sum_{(i_2,\\dotsc,i_T)} P(O,I|\\bar{\\lambda})\\log\\pi_{i_1}\\\\\n",
    "=&\\sum_{i_1}\\log\\pi_{i_1}\\sum_{(i_2,\\dotsc,i_T)} P(O,I|\\bar{\\lambda})\\\\\n",
    "=&\\sum_{i=1}^NP(O,i_1=i|\\bar{\\lambda})\\log\\pi_i\n",
    "\\end{align*}"
   ]
  }
 ],
 "metadata": {
  "celltoolbar": "Slideshow",
  "kernelspec": {
   "display_name": "Python 3",
   "language": "python",
   "name": "python3"
  },
  "language_info": {
   "codemirror_mode": {
    "name": "ipython",
    "version": 3
   },
   "file_extension": ".py",
   "mimetype": "text/x-python",
   "name": "python",
   "nbconvert_exporter": "python",
   "pygments_lexer": "ipython3",
   "version": "3.8.8"
  }
 },
 "nbformat": 4,
 "nbformat_minor": 5
}

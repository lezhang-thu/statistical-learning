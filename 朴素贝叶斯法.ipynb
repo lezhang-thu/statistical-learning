{
  "cells": [
    {
      "cell_type": "markdown",
      "id": "077f4866",
      "metadata": {
        "id": "077f4866"
      },
      "source": [
        "# 朴素贝叶斯法\n",
        "\n",
        "* 朴素贝叶斯（naive Bayes）法是基于贝叶斯定理与特征**条件独立**假设的分类方法\n",
        "\n",
        "课堂提问：特征条件独立假设"
      ]
    },
    {
      "cell_type": "markdown",
      "id": "61801062",
      "metadata": {
        "id": "61801062"
      },
      "source": [
        "对于给定的训练数据集\n",
        "\n",
        "1. 首先基于特征条件独立假设学习输入/输出的联合概率分布\n",
        "1. 然后基于此模型，对给定的输入$x$，利用贝叶斯定理求出后验概率最大的输出$y$\n",
        "\n",
        "课堂提问：先验概率、后验概率"
      ]
    },
    {
      "cell_type": "markdown",
      "id": "896a1328",
      "metadata": {
        "id": "896a1328"
      },
      "source": [
        "## 朴素贝叶斯法的学习与分类\n",
        "\n",
        "### 基本方法\n",
        "\n",
        "1. $X$是定义在输入空间$\\mathcal{X}$上的随机向量，$Y$是定义在输出空间$\\mathcal{Y}$上的随机变量\n",
        "1. $P(X,Y)$是$X$和$Y$的联合概率分布\n",
        "1. 训练数据集$T=\\{(x_1,y_1),(x_2,y_2),\\dotsc,(x_N,y_N)\\}$由$P(X,Y)$独立同分布产生\n",
        "\n",
        "课堂提问：独立同分布"
      ]
    },
    {
      "cell_type": "markdown",
      "id": "a30e5ab7",
      "metadata": {
        "id": "a30e5ab7"
      },
      "source": [
        "### 基本方法\n",
        "\n",
        "1. 先验概率分布$P(Y=c_k)$\n",
        "1. 条件概率分布$P(X=x|Y=c_k)$\n",
        "1. 于是学习到联合概率分布$P(X,Y)$\n",
        "\n",
        "课堂提问：第3点"
      ]
    },
    {
      "cell_type": "markdown",
      "id": "ecb98bff",
      "metadata": {
        "id": "ecb98bff"
      },
      "source": [
        "### 基本方法\n",
        "\n",
        "1. 条件概率分布$P(X=x|Y=c_k)$有指数级数量的参数，其估计实际是不可行的\n",
        "1. 参数个数为$K\\prod_{j=1}^nS_j$\n",
        "\n",
        "课堂提问：参数个数"
      ]
    },
    {
      "cell_type": "markdown",
      "id": "80cc59f3",
      "metadata": {
        "id": "80cc59f3"
      },
      "source": [
        "### 基本方法\n",
        "\n",
        "1. 朴素贝叶斯法对条件概率分布作了条件独立性的假设\n",
        "1. \n",
        "   \\begin{equation}\n",
        "   \\begin{split}\n",
        "    P(X=x|Y=c_k)&=P(X^{(1)}=x^{(1)},\\dotsc,X^{(n)}=x^{(n)}|Y=c_k)\\\\\n",
        "                &=\\prod_{j=1}^n P(X^{(j)}=x^{(j)}|Y=c_k)\n",
        "   \\end{split}\n",
        "   \\end{equation}\n",
        "   \n",
        "1. 朴素贝叶斯法实际上学习到生成数据的机制，所以属于生成模型\n",
        "1. 条件独立假设等于是说用于分类的特征在类确定的条件下都是条件独立的\n",
        "\n",
        "课堂提问：朴素贝叶斯法为何称为“朴素”；第3点如何理解"
      ]
    },
    {
      "cell_type": "markdown",
      "id": "482c6e49",
      "metadata": {
        "id": "482c6e49"
      },
      "source": [
        "### 基本方法\n",
        "\n",
        "1. 朴素贝叶斯法分类时，对给定的输入$x$，通过学习到的模型计算后验概率分布$P(Y=c_k|X=x)$，将后验概率最大的类作为$x$的类输出\n",
        "1. 后验概率计算根据贝叶斯定理进行：\n",
        "   \n",
        "   \\begin{equation}\n",
        "       P(Y=c_k|X=x)=\\frac{P(X=x|Y=c_k)P(Y=c_k)}{\\sum_k P(X=x|Y=c_k)P(Y=c_k)}\n",
        "   \\end{equation}\n",
        "   \n",
        "1. \n",
        "   \\begin{equation}\n",
        "    y=\\mathop{\\arg\\,\\max}_{c_k}P(Y=c_k)\\prod_j P(X^{(j)}=x^{(j)}|Y=c_k)\n",
        "   \\end{equation}\n",
        "   \n",
        "课堂提问：贝叶斯定理；第2、3点如何得到，特别是第2点中的分母形式"
      ]
    },
    {
      "cell_type": "markdown",
      "id": "b38e477f",
      "metadata": {
        "id": "b38e477f"
      },
      "source": [
        "### 后验概率最大化的含义\n",
        "\n",
        "* 朴素贝叶斯法将实例分到后验概率最大的类中\n",
        "* 这等价于期望风险最小化"
      ]
    },
    {
      "cell_type": "markdown",
      "id": "0459a1c2",
      "metadata": {
        "id": "0459a1c2"
      },
      "source": [
        "### 后验概率最大化的含义\n",
        "\n",
        "* \n",
        "  \\begin{equation}\n",
        "    L(Y,f(X))=\n",
        "    \\begin{cases}\n",
        "    1,\\quad Y\\neq f(X)\\\\\n",
        "    0,\\quad Y=f(X)\n",
        "    \\end{cases}\n",
        "  \\end{equation}\n",
        "\n",
        "* 期望风险函数为\n",
        "  \n",
        "  \\begin{equation}\n",
        "      R_\\mathrm{exp}(f)=\\mathbb{E}[L(Y,f(X))]\n",
        "  \\end{equation}\n",
        "\n",
        "* 期望是对联合分布$P(X,Y)$取的\n",
        "  \n",
        "  \\begin{equation}\n",
        "      R_\\mathrm{exp}(f)=\\mathop{\\mathbb{E}}_X\\sum_{k=1}^K[L(c_k,f(X))]P(c_k|X)\n",
        "  \\end{equation}\n",
        "\n",
        "* \n",
        "  \\begin{equation}\n",
        "  \\begin{split}\n",
        "    f(x)&=\\mathop{\\arg\\,\\min}_{y\\in\\mathcal{Y}}\\sum_{k=1}^KP(y\\neq c_k|X=x)\\\\\n",
        "        &=\\mathop{\\arg\\,\\max}_{y\\in\\mathcal{Y}}P(y=c_k|X=x)\n",
        "  \\end{split}\n",
        "  \\end{equation}\n",
        "  \n",
        "* 根据期望风险最小化准则就得到了后验概率最大化准则\n",
        "\n",
        "课堂提问：期望风险函数中的期望是with respect to谁的"
      ]
    },
    {
      "cell_type": "markdown",
      "id": "1a4ef1d8",
      "metadata": {
        "id": "1a4ef1d8"
      },
      "source": [
        "## 朴素贝叶斯法的参数估计\n",
        "\n",
        "* 在朴素贝叶斯法中，学习意味着估计$P(Y=c_k)$和$P(X^{(j)}=x^{(j)}|Y=c_k)$\n",
        "* 可以应用极大似然估计法估计相应的概率"
      ]
    },
    {
      "cell_type": "markdown",
      "id": "90edd366",
      "metadata": {
        "id": "90edd366"
      },
      "source": [
        "### 极大似然估计\n",
        "\n",
        "* a set of 1-D points $X=\\{x_1,\\dotsc,x_n\\}$\n",
        "* Let us assume that the data points are generated by a Gaussian distribution,\n",
        "\n",
        "  \\begin{equation}\n",
        "      \\mathcal{N}(\\mu,\\sigma^2)=\\frac{1}{\\sqrt{2\\pi\\sigma^2}}e^{-\\frac{(x-\\mu)^2}{2\\sigma^2}}\n",
        "  \\end{equation}\n",
        "\n",
        "* The probability that a point $x_i\\in X$ is then generated by the model is\n",
        "\n",
        "  \\begin{equation}\n",
        "    P(x_i|\\mu,\\sigma^2)=\\frac{1}{\\sqrt{2\\pi\\sigma^2}}e^{-\\frac{(x_i-\\mu)^2}{2\\sigma^2}}\n",
        "  \\end{equation}"
      ]
    },
    {
      "cell_type": "markdown",
      "id": "e963cd5c",
      "metadata": {
        "id": "e963cd5c"
      },
      "source": [
        "### 极大似然估计\n",
        "\n",
        "* the likelihood that $X$ is generated by the model is\n",
        "\n",
        "  \\begin{equation}\n",
        "  P(X|\\mu,\\sigma^2)=\\prod_{i=1}^n\\frac{1}{\\sqrt{2\\pi\\sigma^2}}e^{-\\frac{(x_i-\\mu)^2}{2\\sigma^2}}\n",
        "  \\end{equation}\n",
        "\n",
        "* 参数$\\mu$和$\\sigma^2$的确定：\n",
        "\n",
        "  \\begin{equation}\n",
        "  \\mathop{\\arg\\,\\max}_{\\mu,\\sigma^2}P(X|\\mu,\\sigma^2)\n",
        "  \\end{equation}\n",
        "  \n",
        "* 数据挖掘教材Example 12.8\n",
        "\n",
        "课堂提问：计算偏导数"
      ]
    },
    {
      "cell_type": "markdown",
      "id": "9eac67d3",
      "metadata": {
        "id": "9eac67d3"
      },
      "source": [
        "### 极大似然估计\n",
        "\n",
        "* 先验概率$P(Y=c_k)$的极大似然估计是\n",
        "\n",
        "  \\begin{equation}\n",
        "      P(Y=c_k)=\\frac{\\sum_{i=1}^NI(y_i=c_k)}{N}\n",
        "  \\end{equation}\n",
        "  \n",
        "* 设第$j$个特征$x^{(j)}$可能取值的集合为$\\{a_{j1},a_{j2},\\dotsc,a_{jS_j}\\}$，条件概率$P(X^{(i)}=a_{jl}|Y=c_k)$的极大似然估计是\n",
        "\n",
        "  \\begin{equation}\n",
        "      P(X^{(j)}=a_{jl}|Y=c_k)=\\frac{\\sum_{i=1}^NI(x^{(j)}_i=a_{jl},y_i=c_k)}{\\sum_{i=1}^NI(y_i=c_k)}\n",
        "  \\end{equation}\n",
        "  \n",
        "课堂提问：上述两个表达式的物理意义"
      ]
    },
    {
      "cell_type": "markdown",
      "id": "c5a56855",
      "metadata": {
        "id": "c5a56855"
      },
      "source": [
        "### 学习与分类算法\n",
        "\n",
        "朴素贝叶斯算法\n",
        "\n",
        "1. 计算先验概率及条件概率\n",
        "\n",
        "    \\begin{aligned}\n",
        "    &P(Y=c_k)\\\\\n",
        "    &P(X^{(j)}=a_{jl}|Y=c_k)\n",
        "    \\end{aligned}\n",
        "\n",
        "1. 对于给定的实例$x=(x^{(1)},x^{(2)},\\dotsc,x^{(n)})^T$，计算\n",
        "\n",
        "   \\begin{equation}\n",
        "   P(Y=c_k)\\prod_{j=1}^n P(X^{(j)}=x^{(j)}|Y=c_k)\n",
        "   \\end{equation}\n",
        "   \n",
        "1. 确定实例$x$的类\n",
        "\n",
        "   \\begin{equation}\n",
        "    y=\\mathop{\\arg\\,\\max}_{c_k}P(Y=c_k)\\prod_{j=1}^n P(X^{(j)}=x^{(j)}|Y=c_k)\n",
        "   \\end{equation}"
      ]
    },
    {
      "cell_type": "markdown",
      "id": "27133361",
      "metadata": {
        "id": "27133361"
      },
      "source": [
        "### 学习与分类算法\n",
        "\n",
        "教材例4.1"
      ]
    },
    {
      "cell_type": "markdown",
      "id": "2b981389",
      "metadata": {
        "id": "2b981389"
      },
      "source": [
        "### 贝叶斯估计\n",
        "\n",
        "* 用极大似然估计可能会出现所要估计的概率值为0的情况\n",
        "* 数据挖掘教材8.3.2中Laplacian correction\n",
        "* 解决这一问题的方法是采用贝叶斯估计\n",
        "\n",
        "  \\begin{equation}\n",
        "    P_\\lambda(X^{(j)}=a_{jl}|Y=c_k)=\\frac{\\sum_{i=1}^NI(x^{(j)}_i=a_{jl},y_i=c_k)+\\lambda}{\\sum_{i=1}^N I(y_i=c_k)+S_j\\lambda}\n",
        "  \\end{equation}\n",
        "  \n",
        "* 当$\\lambda=0$时就是极大似然估计\n",
        "* 常取$\\lambda=1$，这时称为拉普拉斯平滑（Laplace smoothing）\n",
        "\n",
        "课堂提问：对上述表达式的理解"
      ]
    },
    {
      "cell_type": "markdown",
      "id": "e676bc41",
      "metadata": {
        "id": "e676bc41"
      },
      "source": [
        "### 贝叶斯估计\n",
        "\n",
        "* 同样，先验概率的贝叶斯估计是\n",
        "\n",
        "  \\begin{equation}\n",
        "      P_\\lambda(Y=c_k)=\\frac{\\sum_{i=1}^NI(y_i=c_k)+\\lambda}{N+k\\lambda}\n",
        "  \\end{equation}\n",
        "  \n",
        "* 教材例4.2\n",
        "\n",
        "课堂提问：对上述表达式的理解"
      ]
    },
    {
      "cell_type": "markdown",
      "id": "7909769b",
      "metadata": {
        "id": "7909769b"
      },
      "source": [
        "### 应用\n",
        "\n",
        "* 假设一个医生对患者进行艾滋病病毒（HIV）测试\n",
        "* 这个测试是相当准确的，如果患者健康但测试显示他患病，这个概率只有1%；\n",
        "如果患者真正感染HIV，它永远不会检测不出\n",
        "* $D_1$表示诊断结果（如果阳性，则为$1$，如果阴性，则为$0$）\n",
        "* $H$表示感染艾滋病病毒的状态"
      ]
    },
    {
      "cell_type": "markdown",
      "id": "4d3a70ff",
      "metadata": {
        "id": "4d3a70ff"
      },
      "source": [
        "| 条件概率 | $H=1$ | $H=0$ |\n",
        "|---|---|---|\n",
        "|$P(D_1 = 1 \\mid H)$|            1 |         0.01 |\n",
        "|$P(D_1 = 0 \\mid H)$|            0 |         0.99 |"
      ]
    },
    {
      "cell_type": "markdown",
      "id": "d2d5696d",
      "metadata": {
        "id": "d2d5696d"
      },
      "source": [
        "* 目标：计算如果测试出来呈阳性，患者感染HIV的概率，即$$P(H = 1 \\mid D_1 = 1)$$\n",
        "* 假设人口总体是相当健康的，例如，$P(H=1) = 0.0015$\n",
        "* \\begin{aligned}\n",
        "&P(D_1 = 1) \\\\\n",
        "=& P(D_1=1, H=0) + P(D_1=1, H=1)  \\\\\n",
        "=& P(D_1=1 \\mid H=0) P(H=0) + P(D_1=1 \\mid H=1) P(H=1) \\\\\n",
        "=& 0.011485\n",
        "\\end{aligned}"
      ]
    },
    {
      "cell_type": "markdown",
      "id": "dc1347ac",
      "metadata": {
        "id": "dc1347ac"
      },
      "source": [
        "* \n",
        "\n",
        "\\begin{aligned}\n",
        "&P(H = 1 \\mid D_1 = 1)\\\\ =& \\frac{P(D_1=1 \\mid H=1) P(H=1)}{P(D_1=1)} \\\\ =& 0.1306 \n",
        "\\end{aligned}\n",
        "\n",
        "* 换句话说，尽管使用了非常准确的测试，患者实际上患有艾滋病的几率只有13.06%\n",
        "* 正如我们所看到的，概率可能是违反直觉的"
      ]
    },
    {
      "cell_type": "markdown",
      "id": "5124d947",
      "metadata": {
        "id": "5124d947"
      },
      "source": [
        "* 患者在收到这样可怕的消息后应该怎么办\n",
        "* 很可能，患者会要求医生进行另一次测试来确定病情\n",
        "* 第二个测试具有不同的特性，它不如第一个测试那么精确\n",
        "\n"
      ]
    },
    {
      "cell_type": "markdown",
      "id": "6bcb3fc9",
      "metadata": {
        "id": "6bcb3fc9"
      },
      "source": [
        "| 条件概率 | $H=1$ | $H=0$ |\n",
        "|---|---|---|\n",
        "|$P(D_2 = 1 \\mid H)$|            0.98 |         0.03 |\n",
        "|$P(D_2 = 0 \\mid H)$|            0.02 |         0.97 |"
      ]
    },
    {
      "cell_type": "markdown",
      "id": "93b53c20",
      "metadata": {
        "id": "93b53c20"
      },
      "source": [
        "* 不幸的是，第二次测试也显示阳性\n",
        "* 通过假设*条件独立性*来计算出应用Bayes定理的必要概率：\n",
        "\n",
        "\\begin{aligned}\n",
        "&P(D_1 = 1, D_2 = 1 \\mid H = 0) \\\\\n",
        "=& P(D_1 = 1 \\mid H = 0) P(D_2 = 1 \\mid H = 0)  \\\\\n",
        "=& 0.0003\n",
        "\\end{aligned}\n",
        "\n",
        "\n",
        "\\begin{aligned}\n",
        "&P(D_1 = 1, D_2 = 1 \\mid H = 1) \\\\\n",
        "=& P(D_1 = 1 \\mid H = 1) P(D_2 = 1 \\mid H = 1)  \\\\\n",
        "=& 0.98\n",
        "\\end{aligned}"
      ]
    },
    {
      "cell_type": "markdown",
      "id": "d6afbadd",
      "metadata": {
        "id": "d6afbadd"
      },
      "source": [
        "\\begin{aligned}\n",
        "&P(D_1 = 1, D_2 = 1) \\\\\n",
        "=& P(D_1 = 1, D_2 = 1, H = 0) + P(D_1 = 1, D_2 = 1, H = 1)  \\\\\n",
        "=& P(D_1 = 1, D_2 = 1 \\mid H = 0)P(H=0) \\\\\n",
        "&+ P(D_1 = 1, D_2 = 1 \\mid H = 1)P(H=1)\\\\\n",
        "=& 0.00176955\n",
        "\\end{aligned}"
      ]
    },
    {
      "cell_type": "markdown",
      "id": "22ffbcf0",
      "metadata": {
        "id": "22ffbcf0"
      },
      "source": [
        "* 鉴于存在两次阳性检测，患者患有艾滋病的概率为\n",
        "\n",
        "\\begin{aligned}\n",
        "&P(H = 1 \\mid D_1 = 1, D_2 = 1)\\\\\n",
        "=& \\frac{P(D_1 = 1, D_2 = 1 \\mid H=1) P(H=1)}{P(D_1 = 1, D_2 = 1)} \\\\\n",
        "=& 0.8307\n",
        "\\end{aligned}\n",
        "* 也就是说，第二次测试使我们能够对患病的情况获得更高的信心\n",
        "* 尽管第二次检验比第一次检验的准确性要低得多，但它仍然显著提高我们的预测概率"
      ]
    }
  ],
  "metadata": {
    "celltoolbar": "Slideshow",
    "kernelspec": {
      "display_name": "Python 3",
      "language": "python",
      "name": "python3"
    },
    "language_info": {
      "codemirror_mode": {
        "name": "ipython",
        "version": 3
      },
      "file_extension": ".py",
      "mimetype": "text/x-python",
      "name": "python",
      "nbconvert_exporter": "python",
      "pygments_lexer": "ipython3",
      "version": "3.8.8"
    },
    "colab": {
      "name": "朴素贝叶斯法.ipynb",
      "provenance": [],
      "collapsed_sections": []
    }
  },
  "nbformat": 4,
  "nbformat_minor": 5
}
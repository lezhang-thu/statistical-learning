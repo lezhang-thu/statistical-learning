{
 "cells": [
  {
   "cell_type": "markdown",
   "id": "59a550f5",
   "metadata": {
    "slideshow": {
     "slide_type": "slide"
    }
   },
   "source": [
    "# 数据分析与决策系统实验1\n",
    "\n",
    "1. [03 安装【动手学深度学习v2】](https://www.bilibili.com/video/BV18p4y1h7Dr?spm_id_from=333.999.0.0)\n",
    "1. 阅读课程[README](https://github.com/lezhang-thu/statistical-learning/blob/main/README.md)，结合上述视频学会安装jupyter-notebook，及rise插件\n",
    "1. 用jupyter-notebook打开\"感知机.ipynb\"文件，并能以slides形式展示\n",
    "1. 分编程语言：\n",
    "    1. 选择Python的同学，实现\"感知机学习算法的对偶形式\"的算法，并打印\"x_1 + x_2 = 3\"\n",
    "    1. 选择Java、C的同学，实现\"感知机学习算法的原始形式\"的算法，并打印\"x_1 + x_2 = 3\"\n",
    "1. 实验课期间找老师验收。实验课后并提交**一页**PDF格式的实验报告。要求：\n",
    "    1. 自己在实验中遇到的困难，以及如何解决的\n",
    "    1. 对关键代码的分析\n",
    "    1. 运行结果截图\n",
    "    1. 格式要求：\n",
    "        1. 字体：中文为仿宋_GB2312，英文及代码为Courier New；\n",
    "        1. 字体大小为五号\n",
    "        1. 标题为：数据分析与决策系统实验1，字体大小为三号，居中"
   ]
  }
 ],
 "metadata": {
  "celltoolbar": "Slideshow",
  "kernelspec": {
   "display_name": "Python 3",
   "language": "python",
   "name": "python3"
  },
  "language_info": {
   "codemirror_mode": {
    "name": "ipython",
    "version": 3
   },
   "file_extension": ".py",
   "mimetype": "text/x-python",
   "name": "python",
   "nbconvert_exporter": "python",
   "pygments_lexer": "ipython3",
   "version": "3.8.8"
  }
 },
 "nbformat": 4,
 "nbformat_minor": 5
}

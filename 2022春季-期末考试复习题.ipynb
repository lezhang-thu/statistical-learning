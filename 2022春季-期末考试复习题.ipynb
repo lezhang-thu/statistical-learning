{
 "cells": [
  {
   "cell_type": "markdown",
   "id": "b3394bfe",
   "metadata": {
    "slideshow": {
     "slide_type": "slide"
    }
   },
   "source": [
    "# 2022春季-数据挖掘-期末考试复习题"
   ]
  },
  {
   "cell_type": "markdown",
   "id": "62365bdd",
   "metadata": {
    "slideshow": {
     "slide_type": "slide"
    }
   },
   "source": [
    "1.利用下表中的数据集来构造决策树，用于判断学生是否能够通过考试（Yes或No），基于该学生之前的GPA（High，Medium或Low）以及其是否学习过相应课程（False或True）。\n",
    "\n",
    "（对于该问题，答案中可以包括$\\log$，但比较大小时可以利用$\\log 3\\approx 1.6$。）\n",
    "\n",
    "\n",
    "| GPA     | Studied | Passed |\n",
    "| :----:  | :-----: | :----: |\n",
    "| Low     | False   | No     |\n",
    "| Low     | True    | Yes    |\n",
    "| Medium  | False   | No     |\n",
    "| Medium  | True    | Yes    |\n",
    "| High    | False   | Yes    |\n",
    "| High    | True    | Yes    |\n",
    "\n",
    "* 计算熵$H(\\text{Passed})$，并简要给出计算过程；\n",
    "* 计算条件熵$H(\\text{Passed}|\\text{GPA})$，并简要给出计算过程；\n",
    "* 计算条件熵$H(\\text{Passed}|\\text{Studied})$，并简要给出计算过程；\n",
    "* 画出从该数据集可以学习到的决策树，并简要阐述其中的原因。"
   ]
  },
  {
   "cell_type": "markdown",
   "id": "caf2afab",
   "metadata": {
    "slideshow": {
     "slide_type": "slide"
    }
   },
   "source": [
    "2.一个朴素贝叶斯分类器被构造在具有10个属性（仅考虑属性取值为离散型的情况）的数据集上。\n",
    "\n",
    "* 请简要阐述朴素贝叶斯分类器的思路；\n",
    "* 现在有一条数据元组需要被分类，但是其上只有8个属性的信息。在这种情况下，如何使用该分类器对其进行分类。给出解决方法并简要阐述原因。"
   ]
  },
  {
   "cell_type": "markdown",
   "id": "0476df02",
   "metadata": {
    "slideshow": {
     "slide_type": "slide"
    }
   },
   "source": [
    "3.请回答如下问题：\n",
    "\n",
    "* 简述$k$-最近邻算法；\n",
    "* 对于下表中所示的样本集，分别根据1-最近邻、3-最近邻和5-最近邻算法，对数据点$X=5.0$分类。\n",
    "\n",
    "\n",
    "| X      | Y     |\n",
    "| :----: | :---: |\n",
    "| 0.5    | -     |\n",
    "| 3.0    | -     |\n",
    "| 4.5    | +     |\n",
    "| 4.6    | +     |\n",
    "| 4.9    | +     |\n",
    "| 5.2    | -     |\n",
    "| 5.3    | -     |\n",
    "| 5.7    | +     |\n",
    "| 7.0    | -     |\n",
    "| 9.5    | -     |"
   ]
  },
  {
   "cell_type": "markdown",
   "id": "5f58d426",
   "metadata": {
    "slideshow": {
     "slide_type": "slide"
    }
   },
   "source": [
    "4.考虑如下的数据集，其有三个布尔属性$a$、$b$、$c$，标签为$K$。\n",
    "\n",
    "| a        | b      | c     | K     |\n",
    "| :---:    | :----: | :---: | :---: | \n",
    "| 1        | 0      | 1     | 1     |\n",
    "| 1        | 1      | 1     | 1     |\n",
    "| 0        | 1      | 1     | 0     |\n",
    "| 1        | 1      | 0     | 0     |\n",
    "| 1        | 0      | 1     | 0     |\n",
    "| 0        | 0      | 0     | 1     |\n",
    "| 0        | 0      | 0     | 1     |\n",
    "| 0        | 0      | 1     | 0     |\n",
    "\n",
    "若这里将使用朴素贝叶斯分类器来对$K$的值进行预测，基于$a$、$b$、$c$这3个属性上的取值。请回答如下的问题：\n",
    "\n",
    "* 根据朴素贝叶斯分类器，请问$P(K=1|a=1,b=1,c=0)$为多少。请给出结果及相应的计算过程；\n",
    "* 根据朴素贝叶斯分类器，请问$P(K=1|a=1,b=1)$为多少。请给出结果及相应的计算过程。"
   ]
  },
  {
   "cell_type": "markdown",
   "id": "a91cfee9",
   "metadata": {
    "slideshow": {
     "slide_type": "slide"
    }
   },
   "source": [
    "5.EM算法的导出\n",
    "\n",
    "* 请分析如下的**不等式**是否成立，为什么\n",
    "\n",
    "    $$\n",
    "    L(\\theta)-L(\\theta^{(i)})\\ge \\sum_Z P(Z|Y,\\theta^{(i)})\\log \\frac{P(Y,Z|\\theta)}{P(Z|Y,\\theta^{(i)})}-\\log P(Y|\\theta^{(i)})\n",
    "    $$\n",
    "\n",
    "* 请分析如下的**等式**是否成立，为什么\n",
    "\n",
    "    $$\n",
    "    \\log P(Y|\\theta^{(i)})=\\sum_Z P(Z|Y,\\theta^{(i)})\\log P(Y|\\theta^{(i)})\n",
    "    $$\n",
    "\n",
    "* 请分析如下的**等式**是否成立，为什么\n",
    "\n",
    "    \\begin{equation*}\n",
    "    \\begin{split}\n",
    "    &\\sum_Z P(Z|Y,\\theta^{(i)})\\log \\frac{P(Y,Z|\\theta)}{P(Z|Y,\\theta^{(i)})P(Y|\\theta^{(i)})}\\\\\n",
    "    =&\\sum_Z P(Z|Y,\\theta^{(i)})\\log P(Y,Z|\\theta) - \\sum_Z P(Z|Y,\\theta^{(i)})\\log (P(Z|Y,\\theta^{(i)})P(Y|\\theta^{(i)}))\n",
    "    \\end{split}\n",
    "    \\end{equation*}"
   ]
  },
  {
   "cell_type": "markdown",
   "id": "95c7886d",
   "metadata": {
    "slideshow": {
     "slide_type": "slide"
    }
   },
   "source": [
    "6.支持向量机\n",
    "\n",
    "* 请论证为什么图7.2（教材）中有：\n",
    "\n",
    "    $$\n",
    "    \\gamma_i=\\frac{w}{\\| w\\| }\\cdot x_i+\\frac{b}{\\| w\\| }\n",
    "    $$\n",
    "\n",
    "* 最大间隔分离超平面\n",
    "\n",
    "    \\begin{align*}\n",
    "    \\max_{w,b}&\\quad \\gamma\\\\\n",
    "    \\mathrm{s.t.}&\\quad y_i\\biggl(\\frac{w}{\\|w\\|}\\cdot x_i+\\frac{b}{\\|w\\|}\\biggr)\\ge \\gamma,\\quad i=1,2,\\dotsc,N\n",
    "    \\end{align*}\n",
    "  \n",
    "  请论证：\n",
    "  \n",
    "     * 若$w^*,b^*,\\gamma^*$是上述约束最优化问题的一个最优解，则$\\lambda w^*,\\lambda b^*,\\gamma^*$也是最优解。\n",
    "     * 因约束等价于$y_i(w\\cdot x_i+b)\\ge \\| w \\| \\gamma$，请论证为什么可以令$\\| w \\| \\gamma=1$（从而$\\gamma=1/\\|w\\|$）。\n",
    "  \n",
    "  "
   ]
  },
  {
   "cell_type": "markdown",
   "id": "5bdbf03a",
   "metadata": {
    "slideshow": {
     "slide_type": "slide"
    }
   },
   "source": [
    "7.线性可分支持向量机的对偶算法\n",
    "\n",
    "请回答如下问题：\n",
    "\n",
    "* 根据公式7.19（教材），可以有：\n",
    "\n",
    "    $$\n",
    "    \\frac{1}{2}\\|w\\|^2 = \\frac{1}{2}\\sum_{i=1}^N\\sum_{j=1}^N\\alpha_i\\alpha_j y_iy_j (x_i\\cdot x_j)\n",
    "    $$\n",
    "\n",
    "  请从$(x_1+x_2+x_3)\\cdot (x_1+x_2+x_3)=\\sum_{1\\le i,j\\le 3}x_i\\cdot x_j$的角度来解释为什么上述等式成立。\n",
    "  \n",
    "* 若$w=(w_1,\\dotsc, w_n)^T$，请解释为什么$\\nabla_w \\tfrac{1}{2}\\|w\\|^2=w$。\n",
    "\n",
    "* 根据公式7.19 / 20（教材），请解释为什么下式成立：\n",
    "\n",
    "    $$\n",
    "    -\\sum_i\\alpha_i y_i(w\\cdot x_i+b)=-\\sum_{i,j}\\alpha_i\\alpha_j y_iy_jx_i\\cdot x_j\n",
    "    $$"
   ]
  },
  {
   "cell_type": "markdown",
   "id": "8a0a0d12",
   "metadata": {
    "slideshow": {
     "slide_type": "slide"
    }
   },
   "source": [
    "8.例7.2（教材）的再求解\n",
    "\n",
    "若图7.4（教材）中负例点$x_3=(0,3)^T$，请按例7.2的步骤重新求解线性可分支持向量机。"
   ]
  },
  {
   "cell_type": "markdown",
   "id": "4531f95f",
   "metadata": {
    "slideshow": {
     "slide_type": "slide"
    }
   },
   "source": [
    "9.熵\n",
    "\n",
    "试通过拉格朗日乘子法证明$0\\le H(p)\\le \\log n$，若相应的随机变量$X$是一个取有限个值的离散随机变量。"
   ]
  },
  {
   "cell_type": "markdown",
   "id": "5c63d95a",
   "metadata": {
    "slideshow": {
     "slide_type": "slide"
    }
   },
   "source": [
    "10.感知机\n",
    "\n",
    "考虑正例点$x_1=(1,2)^T,x_2=(2,3)^T,x_3=(3,3)^T$，负例点$x_4=(2,1)^T,x_5=(3,2)^T$，请分别采用感知机学习算法的原始和对偶形式求解相应的感知机模型。\n",
    "\n",
    "（算法扫描数据的顺序为$x_1,x_2,\\dotsc,x_5$。）\n",
    "\n",
    "<center><img src=\"img/sample-final_exam.png\" width=\"30%\"></center>\n"
   ]
  },
  {
   "cell_type": "markdown",
   "id": "9418e41c",
   "metadata": {
    "slideshow": {
     "slide_type": "slide"
    }
   },
   "source": [
    "11.论述题\n",
    "\n",
    "你在设计一个模型，用于检测司机是否疲劳驾驶。对于该任务来说，你的模型能否识别出司机的疲劳现象是非常关键的，以便于避免任何交通事故。\n",
    "\n",
    "请问对于该问题，什么是**最合适的**衡量指标：Accuracy, Precision, Recall, Loss Value\n",
    "\n",
    "请给出答案，并请同时分析为什么。"
   ]
  }
 ],
 "metadata": {
  "celltoolbar": "Slideshow",
  "kernelspec": {
   "display_name": "Python 3",
   "language": "python",
   "name": "python3"
  },
  "language_info": {
   "codemirror_mode": {
    "name": "ipython",
    "version": 3
   },
   "file_extension": ".py",
   "mimetype": "text/x-python",
   "name": "python",
   "nbconvert_exporter": "python",
   "pygments_lexer": "ipython3",
   "version": "3.8.8"
  }
 },
 "nbformat": 4,
 "nbformat_minor": 5
}
